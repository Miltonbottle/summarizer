{
  "cells": [
    {
      "cell_type": "markdown",
      "metadata": {
        "id": "view-in-github",
        "colab_type": "text"
      },
      "source": [
        "<a href=\"https://colab.research.google.com/github/Miltonbottle/summarizer/blob/main/Text_summarizer.ipynb\" target=\"_parent\"><img src=\"https://colab.research.google.com/assets/colab-badge.svg\" alt=\"Open In Colab\"/></a>"
      ]
    },
    {
      "cell_type": "code",
      "execution_count": null,
      "metadata": {
        "colab": {
          "base_uri": "https://localhost:8080/"
        },
        "id": "mbFpoyl6SOJ3",
        "outputId": "e907fac9-ab90-4d5f-cc5b-5cd27d46daa8"
      },
      "outputs": [
        {
          "output_type": "stream",
          "name": "stdout",
          "text": [
            "Requirement already satisfied: transformers in /usr/local/lib/python3.11/dist-packages (4.53.0)\n",
            "Requirement already satisfied: accelerate in /usr/local/lib/python3.11/dist-packages (1.8.1)\n",
            "Requirement already satisfied: datasets in /usr/local/lib/python3.11/dist-packages (2.14.4)\n",
            "Requirement already satisfied: filelock in /usr/local/lib/python3.11/dist-packages (from transformers) (3.18.0)\n",
            "Requirement already satisfied: huggingface-hub<1.0,>=0.30.0 in /usr/local/lib/python3.11/dist-packages (from transformers) (0.33.1)\n",
            "Requirement already satisfied: numpy>=1.17 in /usr/local/lib/python3.11/dist-packages (from transformers) (2.0.2)\n",
            "Requirement already satisfied: packaging>=20.0 in /usr/local/lib/python3.11/dist-packages (from transformers) (24.2)\n",
            "Requirement already satisfied: pyyaml>=5.1 in /usr/local/lib/python3.11/dist-packages (from transformers) (6.0.2)\n",
            "Requirement already satisfied: regex!=2019.12.17 in /usr/local/lib/python3.11/dist-packages (from transformers) (2024.11.6)\n",
            "Requirement already satisfied: requests in /usr/local/lib/python3.11/dist-packages (from transformers) (2.32.3)\n",
            "Requirement already satisfied: tokenizers<0.22,>=0.21 in /usr/local/lib/python3.11/dist-packages (from transformers) (0.21.2)\n",
            "Requirement already satisfied: safetensors>=0.4.3 in /usr/local/lib/python3.11/dist-packages (from transformers) (0.5.3)\n",
            "Requirement already satisfied: tqdm>=4.27 in /usr/local/lib/python3.11/dist-packages (from transformers) (4.67.1)\n",
            "Requirement already satisfied: psutil in /usr/local/lib/python3.11/dist-packages (from accelerate) (5.9.5)\n",
            "Requirement already satisfied: torch>=2.0.0 in /usr/local/lib/python3.11/dist-packages (from accelerate) (2.6.0+cu124)\n",
            "Requirement already satisfied: pyarrow>=8.0.0 in /usr/local/lib/python3.11/dist-packages (from datasets) (18.1.0)\n",
            "Requirement already satisfied: dill<0.3.8,>=0.3.0 in /usr/local/lib/python3.11/dist-packages (from datasets) (0.3.7)\n",
            "Requirement already satisfied: pandas in /usr/local/lib/python3.11/dist-packages (from datasets) (2.2.2)\n",
            "Requirement already satisfied: xxhash in /usr/local/lib/python3.11/dist-packages (from datasets) (3.5.0)\n",
            "Requirement already satisfied: multiprocess in /usr/local/lib/python3.11/dist-packages (from datasets) (0.70.15)\n",
            "Requirement already satisfied: fsspec>=2021.11.1 in /usr/local/lib/python3.11/dist-packages (from fsspec[http]>=2021.11.1->datasets) (2025.3.2)\n",
            "Requirement already satisfied: aiohttp in /usr/local/lib/python3.11/dist-packages (from datasets) (3.11.15)\n",
            "Requirement already satisfied: aiohappyeyeballs>=2.3.0 in /usr/local/lib/python3.11/dist-packages (from aiohttp->datasets) (2.6.1)\n",
            "Requirement already satisfied: aiosignal>=1.1.2 in /usr/local/lib/python3.11/dist-packages (from aiohttp->datasets) (1.3.2)\n",
            "Requirement already satisfied: attrs>=17.3.0 in /usr/local/lib/python3.11/dist-packages (from aiohttp->datasets) (25.3.0)\n",
            "Requirement already satisfied: frozenlist>=1.1.1 in /usr/local/lib/python3.11/dist-packages (from aiohttp->datasets) (1.7.0)\n",
            "Requirement already satisfied: multidict<7.0,>=4.5 in /usr/local/lib/python3.11/dist-packages (from aiohttp->datasets) (6.6.3)\n",
            "Requirement already satisfied: propcache>=0.2.0 in /usr/local/lib/python3.11/dist-packages (from aiohttp->datasets) (0.3.2)\n",
            "Requirement already satisfied: yarl<2.0,>=1.17.0 in /usr/local/lib/python3.11/dist-packages (from aiohttp->datasets) (1.20.1)\n",
            "Requirement already satisfied: typing-extensions>=3.7.4.3 in /usr/local/lib/python3.11/dist-packages (from huggingface-hub<1.0,>=0.30.0->transformers) (4.14.0)\n",
            "Requirement already satisfied: hf-xet<2.0.0,>=1.1.2 in /usr/local/lib/python3.11/dist-packages (from huggingface-hub<1.0,>=0.30.0->transformers) (1.1.5)\n",
            "Requirement already satisfied: charset-normalizer<4,>=2 in /usr/local/lib/python3.11/dist-packages (from requests->transformers) (3.4.2)\n",
            "Requirement already satisfied: idna<4,>=2.5 in /usr/local/lib/python3.11/dist-packages (from requests->transformers) (3.10)\n",
            "Requirement already satisfied: urllib3<3,>=1.21.1 in /usr/local/lib/python3.11/dist-packages (from requests->transformers) (2.4.0)\n",
            "Requirement already satisfied: certifi>=2017.4.17 in /usr/local/lib/python3.11/dist-packages (from requests->transformers) (2025.6.15)\n",
            "Requirement already satisfied: networkx in /usr/local/lib/python3.11/dist-packages (from torch>=2.0.0->accelerate) (3.5)\n",
            "Requirement already satisfied: jinja2 in /usr/local/lib/python3.11/dist-packages (from torch>=2.0.0->accelerate) (3.1.6)\n",
            "Collecting nvidia-cuda-nvrtc-cu12==12.4.127 (from torch>=2.0.0->accelerate)\n",
            "  Downloading nvidia_cuda_nvrtc_cu12-12.4.127-py3-none-manylinux2014_x86_64.whl.metadata (1.5 kB)\n",
            "Collecting nvidia-cuda-runtime-cu12==12.4.127 (from torch>=2.0.0->accelerate)\n",
            "  Downloading nvidia_cuda_runtime_cu12-12.4.127-py3-none-manylinux2014_x86_64.whl.metadata (1.5 kB)\n",
            "Collecting nvidia-cuda-cupti-cu12==12.4.127 (from torch>=2.0.0->accelerate)\n",
            "  Downloading nvidia_cuda_cupti_cu12-12.4.127-py3-none-manylinux2014_x86_64.whl.metadata (1.6 kB)\n",
            "Collecting nvidia-cudnn-cu12==9.1.0.70 (from torch>=2.0.0->accelerate)\n",
            "  Downloading nvidia_cudnn_cu12-9.1.0.70-py3-none-manylinux2014_x86_64.whl.metadata (1.6 kB)\n",
            "Collecting nvidia-cublas-cu12==12.4.5.8 (from torch>=2.0.0->accelerate)\n",
            "  Downloading nvidia_cublas_cu12-12.4.5.8-py3-none-manylinux2014_x86_64.whl.metadata (1.5 kB)\n",
            "Collecting nvidia-cufft-cu12==11.2.1.3 (from torch>=2.0.0->accelerate)\n",
            "  Downloading nvidia_cufft_cu12-11.2.1.3-py3-none-manylinux2014_x86_64.whl.metadata (1.5 kB)\n",
            "Collecting nvidia-curand-cu12==10.3.5.147 (from torch>=2.0.0->accelerate)\n",
            "  Downloading nvidia_curand_cu12-10.3.5.147-py3-none-manylinux2014_x86_64.whl.metadata (1.5 kB)\n",
            "Collecting nvidia-cusolver-cu12==11.6.1.9 (from torch>=2.0.0->accelerate)\n",
            "  Downloading nvidia_cusolver_cu12-11.6.1.9-py3-none-manylinux2014_x86_64.whl.metadata (1.6 kB)\n",
            "Collecting nvidia-cusparse-cu12==12.3.1.170 (from torch>=2.0.0->accelerate)\n",
            "  Downloading nvidia_cusparse_cu12-12.3.1.170-py3-none-manylinux2014_x86_64.whl.metadata (1.6 kB)\n",
            "Requirement already satisfied: nvidia-cusparselt-cu12==0.6.2 in /usr/local/lib/python3.11/dist-packages (from torch>=2.0.0->accelerate) (0.6.2)\n",
            "Requirement already satisfied: nvidia-nccl-cu12==2.21.5 in /usr/local/lib/python3.11/dist-packages (from torch>=2.0.0->accelerate) (2.21.5)\n",
            "Requirement already satisfied: nvidia-nvtx-cu12==12.4.127 in /usr/local/lib/python3.11/dist-packages (from torch>=2.0.0->accelerate) (12.4.127)\n",
            "Collecting nvidia-nvjitlink-cu12==12.4.127 (from torch>=2.0.0->accelerate)\n",
            "  Downloading nvidia_nvjitlink_cu12-12.4.127-py3-none-manylinux2014_x86_64.whl.metadata (1.5 kB)\n",
            "Requirement already satisfied: triton==3.2.0 in /usr/local/lib/python3.11/dist-packages (from torch>=2.0.0->accelerate) (3.2.0)\n",
            "Requirement already satisfied: sympy==1.13.1 in /usr/local/lib/python3.11/dist-packages (from torch>=2.0.0->accelerate) (1.13.1)\n",
            "Requirement already satisfied: mpmath<1.4,>=1.1.0 in /usr/local/lib/python3.11/dist-packages (from sympy==1.13.1->torch>=2.0.0->accelerate) (1.3.0)\n",
            "Requirement already satisfied: python-dateutil>=2.8.2 in /usr/local/lib/python3.11/dist-packages (from pandas->datasets) (2.9.0.post0)\n",
            "Requirement already satisfied: pytz>=2020.1 in /usr/local/lib/python3.11/dist-packages (from pandas->datasets) (2025.2)\n",
            "Requirement already satisfied: tzdata>=2022.7 in /usr/local/lib/python3.11/dist-packages (from pandas->datasets) (2025.2)\n",
            "Requirement already satisfied: six>=1.5 in /usr/local/lib/python3.11/dist-packages (from python-dateutil>=2.8.2->pandas->datasets) (1.17.0)\n",
            "Requirement already satisfied: MarkupSafe>=2.0 in /usr/local/lib/python3.11/dist-packages (from jinja2->torch>=2.0.0->accelerate) (3.0.2)\n",
            "Downloading nvidia_cublas_cu12-12.4.5.8-py3-none-manylinux2014_x86_64.whl (363.4 MB)\n",
            "\u001b[2K   \u001b[90m━━━━━━━━━━━━━━━━━━━━━━━━━━━━━━━━━━━━━━━━\u001b[0m \u001b[32m363.4/363.4 MB\u001b[0m \u001b[31m4.2 MB/s\u001b[0m eta \u001b[36m0:00:00\u001b[0m\n",
            "\u001b[?25hDownloading nvidia_cuda_cupti_cu12-12.4.127-py3-none-manylinux2014_x86_64.whl (13.8 MB)\n",
            "\u001b[2K   \u001b[90m━━━━━━━━━━━━━━━━━━━━━━━━━━━━━━━━━━━━━━━━\u001b[0m \u001b[32m13.8/13.8 MB\u001b[0m \u001b[31m78.4 MB/s\u001b[0m eta \u001b[36m0:00:00\u001b[0m\n",
            "\u001b[?25hDownloading nvidia_cuda_nvrtc_cu12-12.4.127-py3-none-manylinux2014_x86_64.whl (24.6 MB)\n",
            "\u001b[2K   \u001b[90m━━━━━━━━━━━━━━━━━━━━━━━━━━━━━━━━━━━━━━━━\u001b[0m \u001b[32m24.6/24.6 MB\u001b[0m \u001b[31m62.1 MB/s\u001b[0m eta \u001b[36m0:00:00\u001b[0m\n",
            "\u001b[?25hDownloading nvidia_cuda_runtime_cu12-12.4.127-py3-none-manylinux2014_x86_64.whl (883 kB)\n",
            "\u001b[2K   \u001b[90m━━━━━━━━━━━━━━━━━━━━━━━━━━━━━━━━━━━━━━━━\u001b[0m \u001b[32m883.7/883.7 kB\u001b[0m \u001b[31m49.4 MB/s\u001b[0m eta \u001b[36m0:00:00\u001b[0m\n",
            "\u001b[?25hDownloading nvidia_cudnn_cu12-9.1.0.70-py3-none-manylinux2014_x86_64.whl (664.8 MB)\n",
            "\u001b[2K   \u001b[90m━━━━━━━━━━━━━━━━━━━━━━━━━━━━━━━━━━━━━━━━\u001b[0m \u001b[32m664.8/664.8 MB\u001b[0m \u001b[31m1.9 MB/s\u001b[0m eta \u001b[36m0:00:00\u001b[0m\n",
            "\u001b[?25hDownloading nvidia_cufft_cu12-11.2.1.3-py3-none-manylinux2014_x86_64.whl (211.5 MB)\n",
            "\u001b[2K   \u001b[90m━━━━━━━━━━━━━━━━━━━━━━━━━━━━━━━━━━━━━━━━\u001b[0m \u001b[32m211.5/211.5 MB\u001b[0m \u001b[31m5.9 MB/s\u001b[0m eta \u001b[36m0:00:00\u001b[0m\n",
            "\u001b[?25hDownloading nvidia_curand_cu12-10.3.5.147-py3-none-manylinux2014_x86_64.whl (56.3 MB)\n",
            "\u001b[2K   \u001b[90m━━━━━━━━━━━━━━━━━━━━━━━━━━━━━━━━━━━━━━━━\u001b[0m \u001b[32m56.3/56.3 MB\u001b[0m \u001b[31m16.6 MB/s\u001b[0m eta \u001b[36m0:00:00\u001b[0m\n",
            "\u001b[?25hDownloading nvidia_cusolver_cu12-11.6.1.9-py3-none-manylinux2014_x86_64.whl (127.9 MB)\n",
            "\u001b[2K   \u001b[90m━━━━━━━━━━━━━━━━━━━━━━━━━━━━━━━━━━━━━━━━\u001b[0m \u001b[32m127.9/127.9 MB\u001b[0m \u001b[31m8.2 MB/s\u001b[0m eta \u001b[36m0:00:00\u001b[0m\n",
            "\u001b[?25hDownloading nvidia_cusparse_cu12-12.3.1.170-py3-none-manylinux2014_x86_64.whl (207.5 MB)\n",
            "\u001b[2K   \u001b[90m━━━━━━━━━━━━━━━━━━━━━━━━━━━━━━━━━━━━━━━━\u001b[0m \u001b[32m207.5/207.5 MB\u001b[0m \u001b[31m6.5 MB/s\u001b[0m eta \u001b[36m0:00:00\u001b[0m\n",
            "\u001b[?25hDownloading nvidia_nvjitlink_cu12-12.4.127-py3-none-manylinux2014_x86_64.whl (21.1 MB)\n",
            "\u001b[2K   \u001b[90m━━━━━━━━━━━━━━━━━━━━━━━━━━━━━━━━━━━━━━━━\u001b[0m \u001b[32m21.1/21.1 MB\u001b[0m \u001b[31m36.4 MB/s\u001b[0m eta \u001b[36m0:00:00\u001b[0m\n",
            "\u001b[?25hInstalling collected packages: nvidia-nvjitlink-cu12, nvidia-curand-cu12, nvidia-cufft-cu12, nvidia-cuda-runtime-cu12, nvidia-cuda-nvrtc-cu12, nvidia-cuda-cupti-cu12, nvidia-cublas-cu12, nvidia-cusparse-cu12, nvidia-cudnn-cu12, nvidia-cusolver-cu12\n",
            "  Attempting uninstall: nvidia-nvjitlink-cu12\n",
            "    Found existing installation: nvidia-nvjitlink-cu12 12.5.82\n",
            "    Uninstalling nvidia-nvjitlink-cu12-12.5.82:\n",
            "      Successfully uninstalled nvidia-nvjitlink-cu12-12.5.82\n",
            "  Attempting uninstall: nvidia-curand-cu12\n",
            "    Found existing installation: nvidia-curand-cu12 10.3.6.82\n",
            "    Uninstalling nvidia-curand-cu12-10.3.6.82:\n",
            "      Successfully uninstalled nvidia-curand-cu12-10.3.6.82\n",
            "  Attempting uninstall: nvidia-cufft-cu12\n",
            "    Found existing installation: nvidia-cufft-cu12 11.2.3.61\n",
            "    Uninstalling nvidia-cufft-cu12-11.2.3.61:\n",
            "      Successfully uninstalled nvidia-cufft-cu12-11.2.3.61\n",
            "  Attempting uninstall: nvidia-cuda-runtime-cu12\n",
            "    Found existing installation: nvidia-cuda-runtime-cu12 12.5.82\n",
            "    Uninstalling nvidia-cuda-runtime-cu12-12.5.82:\n",
            "      Successfully uninstalled nvidia-cuda-runtime-cu12-12.5.82\n",
            "  Attempting uninstall: nvidia-cuda-nvrtc-cu12\n",
            "    Found existing installation: nvidia-cuda-nvrtc-cu12 12.5.82\n",
            "    Uninstalling nvidia-cuda-nvrtc-cu12-12.5.82:\n",
            "      Successfully uninstalled nvidia-cuda-nvrtc-cu12-12.5.82\n",
            "  Attempting uninstall: nvidia-cuda-cupti-cu12\n",
            "    Found existing installation: nvidia-cuda-cupti-cu12 12.5.82\n",
            "    Uninstalling nvidia-cuda-cupti-cu12-12.5.82:\n",
            "      Successfully uninstalled nvidia-cuda-cupti-cu12-12.5.82\n",
            "  Attempting uninstall: nvidia-cublas-cu12\n",
            "    Found existing installation: nvidia-cublas-cu12 12.5.3.2\n",
            "    Uninstalling nvidia-cublas-cu12-12.5.3.2:\n",
            "      Successfully uninstalled nvidia-cublas-cu12-12.5.3.2\n",
            "  Attempting uninstall: nvidia-cusparse-cu12\n",
            "    Found existing installation: nvidia-cusparse-cu12 12.5.1.3\n",
            "    Uninstalling nvidia-cusparse-cu12-12.5.1.3:\n",
            "      Successfully uninstalled nvidia-cusparse-cu12-12.5.1.3\n",
            "  Attempting uninstall: nvidia-cudnn-cu12\n",
            "    Found existing installation: nvidia-cudnn-cu12 9.3.0.75\n",
            "    Uninstalling nvidia-cudnn-cu12-9.3.0.75:\n",
            "\u001b[31mERROR: Operation cancelled by user\u001b[0m\u001b[31m\n",
            "\u001b[0m"
          ]
        }
      ],
      "source": [
        "pip install transformers accelerate datasets"
      ]
    },
    {
      "cell_type": "code",
      "execution_count": null,
      "metadata": {
        "colab": {
          "base_uri": "https://localhost:8080/",
          "height": 424
        },
        "id": "MRm4Pa7qlaTQ",
        "outputId": "0626f56f-5661-4c24-8804-5c76c6d9eadf"
      },
      "outputs": [
        {
          "output_type": "execute_result",
          "data": {
            "text/plain": [
              "                                               document  \\\n",
              "0     GOP Eyes Gains As Voters In 11 States Pick Gov...   \n",
              "1     \\n \\n \\n \\n UPDATE: 4/19/2001 Read Richard Met...   \n",
              "2     It's the Golden State's latest version of the ...   \n",
              "3     The seed for this crawl was a list of every ho...   \n",
              "4     After a year in which liberals scored impressi...   \n",
              "...                                                 ...   \n",
              "5617  Tweet with a location \\n \\n You can add locati...   \n",
              "5618  Loic Venance/AFP/Getty Images \\n \\n The awards...   \n",
              "5619  (CNN) A federal criminal investigation into a ...   \n",
              "5620  An archive of the public statements deleted by...   \n",
              "5621  An apparently simple email about a holiday pot...   \n",
              "\n",
              "                                                summary  \n",
              "0     – It's a race for the governor's mansion in 11...  \n",
              "1     – It turns out Facebook is only guilty of abou...  \n",
              "2     – Not a big fan of Southern California? Neithe...  \n",
              "3     – Why did Microsoft buy Nokia's phone business...  \n",
              "4     – The Supreme Court is facing a docket of high...  \n",
              "...                                                 ...  \n",
              "5617  – The traditional end-of-summit group photo at...  \n",
              "5618  – Sofia Coppola scored a historic victory at t...  \n",
              "5619  – The duck boat sinking that killed 17 on a Mi...  \n",
              "5620  – Note to tweeting politicians: Watch what you...  \n",
              "5621  – \"STOP THE MADNESS!!!!,\" \"dear lord,\" and \"I ...  \n",
              "\n",
              "[5622 rows x 2 columns]"
            ],
            "text/html": [
              "\n",
              "  <div id=\"df-226e64e3-144b-4690-b468-91820c5c6e97\" class=\"colab-df-container\">\n",
              "    <div>\n",
              "<style scoped>\n",
              "    .dataframe tbody tr th:only-of-type {\n",
              "        vertical-align: middle;\n",
              "    }\n",
              "\n",
              "    .dataframe tbody tr th {\n",
              "        vertical-align: top;\n",
              "    }\n",
              "\n",
              "    .dataframe thead th {\n",
              "        text-align: right;\n",
              "    }\n",
              "</style>\n",
              "<table border=\"1\" class=\"dataframe\">\n",
              "  <thead>\n",
              "    <tr style=\"text-align: right;\">\n",
              "      <th></th>\n",
              "      <th>document</th>\n",
              "      <th>summary</th>\n",
              "    </tr>\n",
              "  </thead>\n",
              "  <tbody>\n",
              "    <tr>\n",
              "      <th>0</th>\n",
              "      <td>GOP Eyes Gains As Voters In 11 States Pick Gov...</td>\n",
              "      <td>– It's a race for the governor's mansion in 11...</td>\n",
              "    </tr>\n",
              "    <tr>\n",
              "      <th>1</th>\n",
              "      <td>\\n \\n \\n \\n UPDATE: 4/19/2001 Read Richard Met...</td>\n",
              "      <td>– It turns out Facebook is only guilty of abou...</td>\n",
              "    </tr>\n",
              "    <tr>\n",
              "      <th>2</th>\n",
              "      <td>It's the Golden State's latest version of the ...</td>\n",
              "      <td>– Not a big fan of Southern California? Neithe...</td>\n",
              "    </tr>\n",
              "    <tr>\n",
              "      <th>3</th>\n",
              "      <td>The seed for this crawl was a list of every ho...</td>\n",
              "      <td>– Why did Microsoft buy Nokia's phone business...</td>\n",
              "    </tr>\n",
              "    <tr>\n",
              "      <th>4</th>\n",
              "      <td>After a year in which liberals scored impressi...</td>\n",
              "      <td>– The Supreme Court is facing a docket of high...</td>\n",
              "    </tr>\n",
              "    <tr>\n",
              "      <th>...</th>\n",
              "      <td>...</td>\n",
              "      <td>...</td>\n",
              "    </tr>\n",
              "    <tr>\n",
              "      <th>5617</th>\n",
              "      <td>Tweet with a location \\n \\n You can add locati...</td>\n",
              "      <td>– The traditional end-of-summit group photo at...</td>\n",
              "    </tr>\n",
              "    <tr>\n",
              "      <th>5618</th>\n",
              "      <td>Loic Venance/AFP/Getty Images \\n \\n The awards...</td>\n",
              "      <td>– Sofia Coppola scored a historic victory at t...</td>\n",
              "    </tr>\n",
              "    <tr>\n",
              "      <th>5619</th>\n",
              "      <td>(CNN) A federal criminal investigation into a ...</td>\n",
              "      <td>– The duck boat sinking that killed 17 on a Mi...</td>\n",
              "    </tr>\n",
              "    <tr>\n",
              "      <th>5620</th>\n",
              "      <td>An archive of the public statements deleted by...</td>\n",
              "      <td>– Note to tweeting politicians: Watch what you...</td>\n",
              "    </tr>\n",
              "    <tr>\n",
              "      <th>5621</th>\n",
              "      <td>An apparently simple email about a holiday pot...</td>\n",
              "      <td>– \"STOP THE MADNESS!!!!,\" \"dear lord,\" and \"I ...</td>\n",
              "    </tr>\n",
              "  </tbody>\n",
              "</table>\n",
              "<p>5622 rows × 2 columns</p>\n",
              "</div>\n",
              "    <div class=\"colab-df-buttons\">\n",
              "\n",
              "  <div class=\"colab-df-container\">\n",
              "    <button class=\"colab-df-convert\" onclick=\"convertToInteractive('df-226e64e3-144b-4690-b468-91820c5c6e97')\"\n",
              "            title=\"Convert this dataframe to an interactive table.\"\n",
              "            style=\"display:none;\">\n",
              "\n",
              "  <svg xmlns=\"http://www.w3.org/2000/svg\" height=\"24px\" viewBox=\"0 -960 960 960\">\n",
              "    <path d=\"M120-120v-720h720v720H120Zm60-500h600v-160H180v160Zm220 220h160v-160H400v160Zm0 220h160v-160H400v160ZM180-400h160v-160H180v160Zm440 0h160v-160H620v160ZM180-180h160v-160H180v160Zm440 0h160v-160H620v160Z\"/>\n",
              "  </svg>\n",
              "    </button>\n",
              "\n",
              "  <style>\n",
              "    .colab-df-container {\n",
              "      display:flex;\n",
              "      gap: 12px;\n",
              "    }\n",
              "\n",
              "    .colab-df-convert {\n",
              "      background-color: #E8F0FE;\n",
              "      border: none;\n",
              "      border-radius: 50%;\n",
              "      cursor: pointer;\n",
              "      display: none;\n",
              "      fill: #1967D2;\n",
              "      height: 32px;\n",
              "      padding: 0 0 0 0;\n",
              "      width: 32px;\n",
              "    }\n",
              "\n",
              "    .colab-df-convert:hover {\n",
              "      background-color: #E2EBFA;\n",
              "      box-shadow: 0px 1px 2px rgba(60, 64, 67, 0.3), 0px 1px 3px 1px rgba(60, 64, 67, 0.15);\n",
              "      fill: #174EA6;\n",
              "    }\n",
              "\n",
              "    .colab-df-buttons div {\n",
              "      margin-bottom: 4px;\n",
              "    }\n",
              "\n",
              "    [theme=dark] .colab-df-convert {\n",
              "      background-color: #3B4455;\n",
              "      fill: #D2E3FC;\n",
              "    }\n",
              "\n",
              "    [theme=dark] .colab-df-convert:hover {\n",
              "      background-color: #434B5C;\n",
              "      box-shadow: 0px 1px 3px 1px rgba(0, 0, 0, 0.15);\n",
              "      filter: drop-shadow(0px 1px 2px rgba(0, 0, 0, 0.3));\n",
              "      fill: #FFFFFF;\n",
              "    }\n",
              "  </style>\n",
              "\n",
              "    <script>\n",
              "      const buttonEl =\n",
              "        document.querySelector('#df-226e64e3-144b-4690-b468-91820c5c6e97 button.colab-df-convert');\n",
              "      buttonEl.style.display =\n",
              "        google.colab.kernel.accessAllowed ? 'block' : 'none';\n",
              "\n",
              "      async function convertToInteractive(key) {\n",
              "        const element = document.querySelector('#df-226e64e3-144b-4690-b468-91820c5c6e97');\n",
              "        const dataTable =\n",
              "          await google.colab.kernel.invokeFunction('convertToInteractive',\n",
              "                                                    [key], {});\n",
              "        if (!dataTable) return;\n",
              "\n",
              "        const docLinkHtml = 'Like what you see? Visit the ' +\n",
              "          '<a target=\"_blank\" href=https://colab.research.google.com/notebooks/data_table.ipynb>data table notebook</a>'\n",
              "          + ' to learn more about interactive tables.';\n",
              "        element.innerHTML = '';\n",
              "        dataTable['output_type'] = 'display_data';\n",
              "        await google.colab.output.renderOutput(dataTable, element);\n",
              "        const docLink = document.createElement('div');\n",
              "        docLink.innerHTML = docLinkHtml;\n",
              "        element.appendChild(docLink);\n",
              "      }\n",
              "    </script>\n",
              "  </div>\n",
              "\n",
              "\n",
              "    <div id=\"df-d9d7e413-984f-4b4c-a112-30527c8b075e\">\n",
              "      <button class=\"colab-df-quickchart\" onclick=\"quickchart('df-d9d7e413-984f-4b4c-a112-30527c8b075e')\"\n",
              "                title=\"Suggest charts\"\n",
              "                style=\"display:none;\">\n",
              "\n",
              "<svg xmlns=\"http://www.w3.org/2000/svg\" height=\"24px\"viewBox=\"0 0 24 24\"\n",
              "     width=\"24px\">\n",
              "    <g>\n",
              "        <path d=\"M19 3H5c-1.1 0-2 .9-2 2v14c0 1.1.9 2 2 2h14c1.1 0 2-.9 2-2V5c0-1.1-.9-2-2-2zM9 17H7v-7h2v7zm4 0h-2V7h2v10zm4 0h-2v-4h2v4z\"/>\n",
              "    </g>\n",
              "</svg>\n",
              "      </button>\n",
              "\n",
              "<style>\n",
              "  .colab-df-quickchart {\n",
              "      --bg-color: #E8F0FE;\n",
              "      --fill-color: #1967D2;\n",
              "      --hover-bg-color: #E2EBFA;\n",
              "      --hover-fill-color: #174EA6;\n",
              "      --disabled-fill-color: #AAA;\n",
              "      --disabled-bg-color: #DDD;\n",
              "  }\n",
              "\n",
              "  [theme=dark] .colab-df-quickchart {\n",
              "      --bg-color: #3B4455;\n",
              "      --fill-color: #D2E3FC;\n",
              "      --hover-bg-color: #434B5C;\n",
              "      --hover-fill-color: #FFFFFF;\n",
              "      --disabled-bg-color: #3B4455;\n",
              "      --disabled-fill-color: #666;\n",
              "  }\n",
              "\n",
              "  .colab-df-quickchart {\n",
              "    background-color: var(--bg-color);\n",
              "    border: none;\n",
              "    border-radius: 50%;\n",
              "    cursor: pointer;\n",
              "    display: none;\n",
              "    fill: var(--fill-color);\n",
              "    height: 32px;\n",
              "    padding: 0;\n",
              "    width: 32px;\n",
              "  }\n",
              "\n",
              "  .colab-df-quickchart:hover {\n",
              "    background-color: var(--hover-bg-color);\n",
              "    box-shadow: 0 1px 2px rgba(60, 64, 67, 0.3), 0 1px 3px 1px rgba(60, 64, 67, 0.15);\n",
              "    fill: var(--button-hover-fill-color);\n",
              "  }\n",
              "\n",
              "  .colab-df-quickchart-complete:disabled,\n",
              "  .colab-df-quickchart-complete:disabled:hover {\n",
              "    background-color: var(--disabled-bg-color);\n",
              "    fill: var(--disabled-fill-color);\n",
              "    box-shadow: none;\n",
              "  }\n",
              "\n",
              "  .colab-df-spinner {\n",
              "    border: 2px solid var(--fill-color);\n",
              "    border-color: transparent;\n",
              "    border-bottom-color: var(--fill-color);\n",
              "    animation:\n",
              "      spin 1s steps(1) infinite;\n",
              "  }\n",
              "\n",
              "  @keyframes spin {\n",
              "    0% {\n",
              "      border-color: transparent;\n",
              "      border-bottom-color: var(--fill-color);\n",
              "      border-left-color: var(--fill-color);\n",
              "    }\n",
              "    20% {\n",
              "      border-color: transparent;\n",
              "      border-left-color: var(--fill-color);\n",
              "      border-top-color: var(--fill-color);\n",
              "    }\n",
              "    30% {\n",
              "      border-color: transparent;\n",
              "      border-left-color: var(--fill-color);\n",
              "      border-top-color: var(--fill-color);\n",
              "      border-right-color: var(--fill-color);\n",
              "    }\n",
              "    40% {\n",
              "      border-color: transparent;\n",
              "      border-right-color: var(--fill-color);\n",
              "      border-top-color: var(--fill-color);\n",
              "    }\n",
              "    60% {\n",
              "      border-color: transparent;\n",
              "      border-right-color: var(--fill-color);\n",
              "    }\n",
              "    80% {\n",
              "      border-color: transparent;\n",
              "      border-right-color: var(--fill-color);\n",
              "      border-bottom-color: var(--fill-color);\n",
              "    }\n",
              "    90% {\n",
              "      border-color: transparent;\n",
              "      border-bottom-color: var(--fill-color);\n",
              "    }\n",
              "  }\n",
              "</style>\n",
              "\n",
              "      <script>\n",
              "        async function quickchart(key) {\n",
              "          const quickchartButtonEl =\n",
              "            document.querySelector('#' + key + ' button');\n",
              "          quickchartButtonEl.disabled = true;  // To prevent multiple clicks.\n",
              "          quickchartButtonEl.classList.add('colab-df-spinner');\n",
              "          try {\n",
              "            const charts = await google.colab.kernel.invokeFunction(\n",
              "                'suggestCharts', [key], {});\n",
              "          } catch (error) {\n",
              "            console.error('Error during call to suggestCharts:', error);\n",
              "          }\n",
              "          quickchartButtonEl.classList.remove('colab-df-spinner');\n",
              "          quickchartButtonEl.classList.add('colab-df-quickchart-complete');\n",
              "        }\n",
              "        (() => {\n",
              "          let quickchartButtonEl =\n",
              "            document.querySelector('#df-d9d7e413-984f-4b4c-a112-30527c8b075e button');\n",
              "          quickchartButtonEl.style.display =\n",
              "            google.colab.kernel.accessAllowed ? 'block' : 'none';\n",
              "        })();\n",
              "      </script>\n",
              "    </div>\n",
              "\n",
              "    </div>\n",
              "  </div>\n"
            ],
            "application/vnd.google.colaboratory.intrinsic+json": {
              "type": "dataframe",
              "summary": "{\n  \"name\": \"multinews\",\n  \"rows\": 5622,\n  \"fields\": [\n    {\n      \"column\": \"document\",\n      \"properties\": {\n        \"dtype\": \"string\",\n        \"num_unique_values\": 5620,\n        \"samples\": [\n          \"Photo \\n \\n Many teenagers who never would have smoked cigarettes are now \\u201cvaping\\u201d with flavored e-cigarettes, leading to a new generation using nicotine at rates not seen since the 1990s, a new study suggests. \\n \\n The study, released Monday in the journal Pediatrics, tracked the use of cigarettes and e-cigarettes among 5,490 California high school seniors who graduated between 1995 and 2014. E-cigarettes do not burn tobacco, but are battery-operated inhalers that heat up and vaporize liquid containing flavors and nicotine, a practice known as vaping. The liquids used in vaping range in taste from traditional tobacco and menthol flavors to fruity and sweet combinations like gummi bear, banana bread and cotton candy. \\n \\n When e-cigarettes came on the market in 2007, some public health experts hoped that they would serve as a substitute for traditional tobacco products and lead to declines in tobacco use. \\n \\n But the data from the latest study, conducted by researchers at the University of Southern California, tell a different story. E-cigarettes do not appear to have made a dent in regular cigarette use \\u2014 the number of high school seniors who reported smoking tobacco in the past 30 days has largely plateaued. In 2004, the number of 12th graders who reported smoking tobacco in the past 30 days was 9 percent; in 2014 that number was just under 8 percent. \\n \\n But the rate of teenagers using nicotine \\u2014 either through tobacco cigarettes or e-cigarettes \\u2014 is on the rise. About 14 percent of Southern California high school seniors in 2014 said they had smoked or vaped in the last 30 days. Researchers say they have not seen similar levels of nicotine use among teenagers since 1995, when 12th-grade smoking rates were 19 percent. \\n \\n The numbers suggest that rather than prompting teenagers to replace cigarette smoking with vaping, e-cigarettes instead have enticed an entirely new group of teenagers to use nicotine. While the study focused on California teenagers, researchers say the numbers are consistent with national trends. \\n \\n \\u201cKids are not just using e-cigarettes instead of cigarettes. That is what we were frankly hoping to find,\\u201d said Jessica Barrington-Trimis, the lead author of the study and a postdoctoral scholar research associate in the department of preventive medicine at the U.S.C. Keck School of Medicine. All of the teenagers that were expected to be using cigarettes in 2014 are using them, she said, \\u201cand then there is a whole group of kids using e-cigarettes on top of that.\\u201d \\n \\n The amount of nicotine in the liquids used with e-cigarettes \\u2014 often called \\u201cvape juice\\u201d \\u2014 varies, and users can purchase liquid with no nicotine or nicotine content ranging from 3 milligrams per milliliter to 18 milligrams per milliliter or even higher. While earlier studies have suggested that some teens are using nicotine-free vaping liquids, researchers say the majority of teens appear to be using nicotine-infused liquid in their e-cigarettes. \\n \\n Dr. Jonathan Winickoff, professor of pediatrics at MassGeneral Hospital for Children and Harvard Medical School, who wrote an accompanying paper in Pediatrics, said this is the first study of e-cigarette use in adolescents to show such a strong longitudinal sample with such a drastic effect. \\n \\n \\u201cWe had a trend of decreasing nicotine use,\\u201d said Dr. Winickoff. \\u201cWhat the e-cigarette has done is halted that decrease in its tracks\\u2026. We don\\u2019t want a fifth of our high school students graduating with nicotine addiction.\\u201d \\n \\n While e-cigarettes do appear to be safer than smoking tobacco, they are not risk free. Nicotine disrupts neurotransmitter activity and is highly addictive, particularly in a developing brain. And the liquids contain solvents, formaldehyde and other ingredients that pose health risks when inhaled. \\n \\n While it\\u2019s true that there are nicotine-free vaping liquids, the e-cigarette industry is not regulated, which makes it hard to know what ingredients are actually in any given product. Though the Food and Drug Administration recently took jurisdiction over e-cigarettes, it will be years before any regulations are put into effect. Currently, many products continue to be made in China with little \\u2014 if any \\u2014 oversight by the United States. \\n \\n \\u201cThe F.D.A. has done tests on these vaping products that supposedly do and do not contain nicotine, and what is advertised is really not what\\u2019s in the product,\\u201d Dr. Winickoff said. \\u201cWhen the product is labeled as no nicotine, they\\u2019ve found nicotine. So kids don\\u2019t know what they\\u2019re getting, and as a pediatrician it really scares me.\\u201d \\n \\n Not everyone agrees that e-cigarettes pose a significant risk to teenagers. Dr. Michael Siegel, professor of community health sciences at the Boston University School of Public Health, countered that many teenagers say they are using e-cigarettes that contain only flavorings and no nicotine, and therefore are not getting addicted. \\n \\n \\u201cE-cigarette use among teenagers is a largely social phenomenon,\\u201d he said. \\u201cThe fact that you tend to see teenagers doing this in groups, not out in the cold vaping alone, suggests that e-cigarettes are not addictive.\\u201d \\n \\n But there is a growing body of research showing that e-cigarettes do serve as a gateway to traditional tobacco products. Last month, the U.S.C. researchers also reported in Pediatrics that adolescents who vape are six times more likely to smoke cigarettes in early adulthood as nonusers. \\n \\n \\u201cOnce kids get hooked on e-cigarettes, they are more likely to go on to become cigarette smokers,\\u201d said Stanton A. Glantz, director of the Center for Tobacco Control Research and Education at the University of California, San Francisco. ||||| Abstract BACKGROUND: Adolescent e-cigarette use has increased rapidly in recent years, but it is unclear whether e-cigarettes are merely substituting for cigarettes or whether e-cigarettes are being used by those who would not otherwise have smoked. To understand the role of e-cigarettes in overall tobacco product use, we examine prevalence rates from Southern California adolescents over 2 decades. METHODS: The Children\\u2019s Health Study is a longitudinal study of cohorts reaching 12th grade in 1995, 1998, 2001, 2004, and 2014. Cohorts were enrolled from entire classrooms in schools in selected communities and followed prospectively through completion of secondary school. Analyses used data from grades 11 and 12 of each cohort (N = 5490). RESULTS: Among 12th-grade students, the combined adjusted prevalence of current cigarette or e-cigarette use in 2014 was 13.7%. This was substantially greater than the 9.0% adjusted prevalence of current cigarette use in 2004, before e-cigarettes were available (P = .003) and only slightly less than the 14.7% adjusted prevalence of smoking in 2001 (P = .54). Similar patterns were observed for prevalence rates in 11th grade, for rates of ever use, and among both male and female adolescents and both Hispanic and Non-Hispanic White adolescents. CONCLUSIONS: Smoking prevalence among Southern California adolescents has declined over 2 decades, but the high prevalence of combined e-cigarette or cigarette use in 2014, compared with historical Southern California smoking prevalence, suggests that e-cigarettes are not merely substituting for cigarettes and indicates that e-cigarette use is occurring in adolescents who would not otherwise have used tobacco products. \\n \\n What\\u2019s Known on This Subject: E-cigarette use has increased rapidly in recent years among adolescents. It is unknown whether e-cigarettes are merely substituting for cigarettes or whether e-cigarettes are increasing total adolescent tobacco product use via initiation by those who would not otherwise have smoked. \\n \\n What This Study Adds: The high prevalence of combined e-cigarette or cigarette use in 2014, compared with historical Southern California smoking prevalence, suggests that e-cigarette use is occurring in adolescents who would not otherwise have used tobacco products. \\n \\n Since the introduction of electronic cigarettes into the US market in 2007,1 adolescent use has increased rapidly, particularly in the past several years. Data from the National Youth Tobacco Survey (NYTS), a nationally representative cross-sectional survey of adolescents in the United States, show that current (past 30-day) use of e-cigarettes increased exponentially from 1.1% in 2011 to 16.0% in 2015 among high school students.2\\u20136 While the prevalence of e-cigarette use is increasing, cigarette use is generally declining among adolescents; in the NYTS, current cigarette use among high school students fell from 15.8% in 2011 to 9.2% in 2014,2,3,5,6 continuing the decline in prevalence of cigarette use among adolescents from its most recent peak in the mid-1990s when the prevalence of current smoking reached 35%.7 Of note, the prevalence of cigarette smoking did not continue to decline from 2014 (9.2%) to 2015 (9.3%).6 In 2014, current use of e-cigarettes surpassed current cigarette use for the first time in several national studies (including the NYTS2 and the Monitoring the Future Study8), as well as in a number of local and state-level studies,9\\u201311 including our study of Southern California adolescents.12 \\n \\n There are multiple interpretations of recent trends in e-cigarette and cigarette use among adolescents. Adolescents who otherwise would have smoked may be using e-cigarettes instead of cigarettes. Alternatively, e-cigarettes may be recruiting new users who otherwise would not have initiated cigarette use (or perhaps any other tobacco product) if e-cigarettes were not available. Recent data from the 2015 NYTS found a small, nonsignificant increase in the use of any tobacco product from 2013 to 2015 (from 22.9% to 25.3%).2,6 The increase in overall tobacco product use appears to be largely driven by increases in e-cigarette and hookah use in 2013 and 2014, and continued increases in e-cigarette use in 2015, along with no decline in cigarette smoking from 2014 to 2015.2,3 Although these data provide insight into trends over the preceding 3 years, adolescent tobacco use has declined for >20 years.7 The impact of e-cigarettes on adolescent tobacco use trends that have evolved over longer periods is unknown. \\n \\n We analyzed data from the Southern California Children\\u2019s Health Study (CHS), a prospective study of 5 cohorts reaching 12th grade in 1995, 1998, 2001, 2004, and 2014, to describe patterns of smoking among adolescents across these years. On the basis of historical data on smoking initiation over the course of adolescence in these cohorts, we compared the rate of total e-cigarette or cigarette use in 2014 to the rate of cigarette use in 2004 before e-cigarettes were available; we hypothesized that an increase from this benchmark may indicate that e-cigarettes are currently being used by adolescents who would not otherwise have smoked if e-cigarettes were not available. \\n \\n Methods Study Sample The CHS is a prospective cohort study (1993\\u2013present), originally designed to study the effects of childhood air pollution exposure.13\\u201315 It comprises 5 cohorts of adolescents (Cohorts A\\u2013E) who were recruited and followed through 12th grade (Table 1). Recruitment methods and data collection procedures have been described previously.12\\u201315 Briefly, participants were enrolled from entire classrooms in schools in selected communities in Southern California12,14 in 10th grade (Cohort A, 1993), seventh grade (Cohort B, 1993), fourth grade (Cohort C, 1993 and Cohort D, 1996), kindergarten (Cohort E1, 2003), or first grade (Cohort E2, 2003). The current analysis uses available data from grades 11 and 12 of each cohort from participants who answered questions about tobacco product use (N = 5490; 11th grade: mean age [SD] = 16.9 [0.4]; 12th grade: mean age [SD] = 17.9 [0.4]. In Cohorts A through D, history of cigarette use was collected by in-person interview every year at schools as they were followed over time.15,16 Among participants in Cohorts A through D with data available from 11th or 12th grade, 85.7% of the sample provided information on smoking history in both 11th and 12th grades and therefore contributed to prevalence estimates in both years; 10.6% contributed to 11th grade analyses only and 3.7% contributed to 12th grade analyses only. In Cohorts E1 and E2, who were separated by 1 grade, smoking history was collected every other year, so both 11th- and 12th-grade subjects were included in the 2014 survey. In 2014, smoking history in Cohorts E1 and E2 was collected by self-administered questionnaires under study staff supervision. Cohort A through D subjects were all recruited from the same 12 communities; Cohorts E1 and E2 were recruited from 13 communities, of which 12 participated in the 2014 data collection and 8 were the same as Cohorts A through D. TABLE 1 Grade of Adolescents Included in Each Cohort in Each Year of the CHS, 1994\\u20132014 Ethics Statement The study was approved by the University of Southern California Institutional Review Board. Written informed consent was obtained before data collection. Cigarette and E-Cigarette Use In all CHS cohorts, participants were asked the number of cigarettes or packs of cigarettes that they had smoked in the past 24 hours, past week, past month, past year, and in their lifetime. In each year, participants were classified as current users if they reported smoking \\u22651 cigarettes in the past 24 hours, past week, or past month; participants were classified as ever users if they reported either (1) use in the past year or in their lifetime or (2) listed an age at which they had first smoked. This classification was used for all prevalence estimates of cigarette use alone, across all cohorts. In 2014, smoking history was assessed in Cohort E participants (in grades 11 and 12) using the same question as in Cohorts A through D, along with 2 additional questions that asked about the age at which each participant had first used a cigarette (\\u201ceven 1 or 2 puffs\\u201d) and the number of days smoked in the past 30 days. In addition, use of e-cigarettes was assessed for the first time using the new questions. Adolescents who had used cigarettes or e-cigarettes on at least 1 of the past 30 days were classified as \\u201ccurrent users\\u201d of that product. \\u201cEver users\\u201d were adolescents who reported having ever tried a product. Analyses evaluating combined product use of cigarettes or e-cigarettes in Cohorts E1 and E2 were based on responses to the new questions. The prevalence rates both for current and ever cigarette use were quite similar using either set of questions, differing by 0.1% for current use and 1.6% for prevalence of ever smoking, and the results of analyses were not substantively different using either set of questions. Therefore, in Cohort E we used the prevalence rates derived from the new questions about cigarette use, which we have reported previously12 and which were common to those used to assess e-cigarette prevalence rates. Statistical Analysis Prevalence estimates for ever and current cigarette use were calculated by cohort and grade, using the questionnaire items assessed across all cohorts. In Cohort E (in 2014), we calculated the combined prevalence of cigarette or e-cigarette use (ever or current), which included adolescents who reported use of either product or dual use of both products. Logistic regression models were used to estimate smoking prevalence for each cohort by grade, with adjustment for self-reported sex, ethnicity (Hispanic, non-Hispanic white, or other), and parental education (less than high school education, high school graduate, some college, college degree, some graduate school or higher, unknown/missing). Adjusted models were used to account for the different distribution across cohorts of socioeconomic factors known to be associated with cigarette use. These models were applied separately to current smoking and ever smoking. The distributions of sex, ethnicity, and parental education in Cohort E were used as the reference for calculating the adjusted prevalence estimates from the logistic model. Logistic regression models were also used to evaluate trends in the prevalence of cigarette use (ever or current) over calendar time, by including year of data collection as a continuous predictor variable in separate analyses by grade. Logistic regression models with an interaction term were used to evaluate whether the pattern of cigarette use across cohorts varied by ethnicity or sex. In analyses to assess the sensitivity of results to the participation of different Southern California communities in different cohorts, we additionally restricted analyses to the 8 communities common to all years of all cohorts and adjusted for community. The Statistical Analysis System (SAS, version 9.4) was used for analyses, and figures were created using Stata, version 13.1. All hypothesis testing was conducted assuming a .05 significance level. \\n \\n Results Demographic characteristics for each cohort are shown in Table 2. The earlier cohorts (A\\u2013D) included a greater proportion of non-Hispanic white adolescents (54%\\u201359%), whereas Cohorts E1 and E2 included more Hispanic adolescents (49%\\u201353%). The distributions of the highest level of parental education differed among the cohorts. TABLE 2 Demographic Characteristics of Participants Enrolled in the CHS, by Cohort, 1994\\u20132014, N = 5490 The adjusted prevalence of current smoking among high school students decreased over time from 1995 to 2014 in both 11th and 12th grades (P trend < .0001; Fig 1 A and B). Among 12th-grade students in Cohort A (1995), the adjusted prevalence of current smoking was 19.1%; prevalence of use decreased to 17.1% in Cohort B (1998), 14.7% in Cohort C (2001), 9.0% in Cohort D (2004), and 7.8% in Cohort E (2014). Although the prevalence of current cigarette use was lowest among students in both grades in 2014, the combined prevalence of current cigarette and/or e-cigarette use was similar to or greater than that for cigarette use alone 10 to 15 years ago, before e-cigarettes were available (Fig 1 A and B). For example, among 12th-grade students, the adjusted prevalence of combined use of either product in 2014 was 13.7% (3.8% dual users of cigarettes and e-cigarettes, 3.9% cigarette only users, and 6.0% e-cigarette only users), which was similar to the 14.7% prevalence of cigarette use in 2001 (P = .54), and nearly 5 percentage points higher than the adjusted prevalence of current cigarette use in 2004 (9.0%; P = .003). FIGURE 1 Adjusted prevalence estimates among adolescents in the CHS by cohort for current cigarette use (all cohorts), and current cigarette or e-cigarette use (Cohort E) in (A) grade 11 and (B) grade 12 and for ever cigarette use (all cohorts) and ever cigarette or e-cigarette use (Cohort E) in (C) grade 11 and (D) grade 12, 1994\\u20132014. The prevalence of ever cigarette use followed similar patterns of an overall decrease over time across Cohort A (1994\\u20131995) to Cohort E (2014) for both 11th- and 12th-grade students (P trend < .0001; Fig 1 C and D). However, the 11th- and 12th-grade prevalence rates for ever cigarette use in 2014 were not statistically significantly lower than the prevalence in Cohort D 10 years earlier in 2003\\u20132004 (P = .59, 0.56, respectively). The prevalence of combined ever use of cigarettes or e-cigarettes also surpassed rates of ever cigarette use more than a decade ago. Among 12th-grade students, the adjusted prevalence of ever use of either cigarettes or e-cigarettes in 2014 was 32.1%, substantially higher than the adjusted prevalence of ever cigarette use in 2004 (20.4%; P < .0001), and slightly higher than the adjusted prevalence in 2001 (30.2%; P = .41). Among both male and female adolescents, the prevalence of cigarette or e-cigarette use (ever or current) in both 11th and 12th grades in 2014 was higher than the prevalence of smoking in 2003\\u20132004 and was generally similar to the prevalence of smoking in 2000\\u20132001 (Fig 2 A\\u2013D). There was no difference between sexes in these patterns of decline in smoking over time (interaction P > .05). The prevalence of current and ever use of cigarettes within cohorts was higher among male than among female adolescents, with more pronounced differences observed among 12th-grade students; combined rates of e-cigarette or cigarette use in 2014 were also larger in male than female adolescents. FIGURE 2 Prevalence estimates among adolescents in the CHS by cohort and sex for current cigarette use (all cohorts) and current cigarette or e-cigarette use (Cohort E) in (A) grade 11 and (B) grade 12 and for ever cigarette use (all cohorts) and ever cigarette or e-cigarette use (Cohort E) in (C) grade 11 and (D) grade 12, 1994\\u20132014. The prevalence of current and ever smoking also decreased over time from 1994 to 2014 among both non-Hispanic white adolescents and Hispanic adolescents (P < .0001; Fig 3 A\\u2013D; interaction P for ethnicity >.05). In both ethnic groups, the combined prevalence of current cigarette or e-cigarette use in 2014 exceeded the rate of current cigarette use in 2003 (11th grade) or 2004 (12th grade). For example, among non-Hispanic white 12th-grade students, the combined rate of current cigarette or e-cigarette use in 2014 in Cohort E was identical to the rate of smoking in 2001 (17.2%; 5.0% dual use, 4.4% cigarette only use, 7.8% e-cigarette only use); the rate of combined use among Hispanic white adolescents in 2014 (12.0%; 2.9% dual use, 5.0% cigarette only use, 4.1% e-cigarette only use) was >3 percentage points higher than the rate of smoking in 2004 (8.8%) and only slightly less than the rate of smoking in 2001 (13.8%). Similar patterns were observed for ever use in both ethnicities; the combined rate of cigarette or e-cigarette use in 2014 in 11th- and 12th-grade students was higher than the rates of smoking 10 years earlier in both ethnic groups. We did observe differences in rates of smoking within cohorts between Hispanic and non-Hispanic white study participants. Current smoking prevalence was consistently higher among non-Hispanic white adolescents than among Hispanic white adolescents (Fig 3 A and B), but ever use was generally similar or modestly higher among Hispanic white adolescents than among non-Hispanic white adolescents (Fig 3 C and D). In 2014 the combined prevalence of e-cigarette or cigarette use (both current and ever) was greater in Hispanic whites than non-Hispanic whites in 11th grade, which appears to result from higher prevalence of cigarette only use (dual and e-cigarette only use was similar across both groups). In 12th grade, the combined prevalence of e-cigarette or cigarette use was greater in non-Hispanic whites than Hispanic white youth, largely resulting from greater levels of e-cigarette and dual product use. FIGURE 3 Prevalence estimates among adolescents in the CHS by cohort and by ethnicity for current cigarette use (all cohorts), and current cigarette or e-cigarette use (Cohort E) in (A) grade 11 and (B) grade 12 and for ever cigarette use (all cohorts) and ever cigarette or e-cigarette use (Cohort E) in (C) grade 11 and (D) grade 12, 1994\\u20132014. HW, Hispanic white; NHW, non-Hispanic white. In analyses restricted to the 8 communities with data available across all cohorts, trends in prevalence across cohorts and across grades within cohorts, as well as the ethnic- and sex-specific patterns, were similar to those observed in the entire sample (data not shown). \\n \\n Discussion These Southern California communities have experienced a marked decrease in adolescent cigarette use over the past 2 decades. However, among both 11th- and 12th-grade students, the combined prevalence of current cigarette or e-cigarette use in 2014 was substantially greater than the prevalence of smoking in 2004 (among 12th graders, eg, 13.7% and 9.0%, respectively) and was almost as high as the prevalence of smoking in 2001 (14.7% for 12th graders). This substantially increased combined prevalence of cigarette smoking or e-cigarette use in 2014, compared with smoking rates a decade earlier, when e-cigarettes were not available, suggests that e-cigarettes are not used only by adolescents who would otherwise be smoking cigarettes. If, for example, the current rates of smoking would not have changed from 2004 to 2014 in the absence of e-cigarettes, then 1.2% of adolescents in Southern California, the difference between the 7.8% adjusted prevalence of cigarette use in 2014 and 9.0% in 2004, may be substituting e-cigarettes for cigarettes. An additional 4.7% of e-cigarette users, the difference between the 13.7% combined prevalence of e-cigarette or cigarette use in 2014 and the 9.0% prevalence of cigarette use in 2004 likely would not have used cigarettes if e-cigarettes were not available, under the assumption that the rate of smoking from 2004 to 2014 would not have changed. The assumption that smoking rates would not have decreased in the absence of e-cigarettes likely makes this estimate of the proportion of e-cigarette users who would not otherwise have used cigarettes conservative. The general prevalence patterns and the findings compared with the 2004 data were similar among Hispanic and non-Hispanic white participants and in male and female participants; thus, tobacco control interventions geared toward youth are equally needed for youth of both sexes and ethnicities. The prevalence of cigarette use or combined use (Cohort E only) did differ by gender and ethnicity within each cohort. Hispanic adolescents were less likely to report cigarette use in each cohort among both 11th- and 12th-grade students but as likely to report ever use, a pattern consistent with historically reported ethnic comparisons.3,7,17,18 Male respondents were generally more likely to report use of cigarettes, e-cigarettes, or combined use of cigarettes or e-cigarettes, which is also consistent with previous literature.2,7,12,19 A major strength of this study is the use of >20 years of data collected across 5 cohorts drawn from the same CHS communities to assess patterns of change in cigarette use in Southern California. Because all results were adjusted for the Cohort E distribution of race/ethnicity, sex, and parental education, it is unlikely that differences across cohorts were influenced by changes in sociodemographic characteristics of the population over time. The study is also subject to some limitations. Data on use of tobacco products other than cigarettes were not collected from earlier cohorts. Thus, the contribution of hookah, cigar/cigarillo, pipe, or smokeless tobacco use to the prevalence of all tobacco product use in earlier cohorts is not known. Data from the NYTS have shown relatively stable prevalence of use of cigars and smokeless tobacco from 2000 to 2012,20 followed by a decrease in cigar and pipe use and in smokeless tobacco use from 2011 to 2014.2 Although national results may not be generalizable to Southern California (and vice versa), we cannot exclude the possibility that e-cigarette use is substituting for these combustible tobacco products. No data are available on trends in hookah use across the periods of interest in this study, but prevalence of hookah use increased in the NYTS from 2011 to 2014,2 so it seems unlikely that the increase in prevalence of e-cigarette use during this period reflects substitution of e-cigarettes for hookah use among participants who otherwise would have smoked hookah use in previous cohorts. Analyses were restricted to Hispanic youth (historically an underrepresented population in tobacco regulatory science research) and non-Hispanic white youth, who comprise the majority of the Southern California population; the prevalence estimates were imprecise in other racial/ethnic groups in our study, which made up <20% of the sample. Additional research is needed to determine whether similar patterns of product use over time occurred in other racial groups and in other geographic regions. E-cigarettes have gained popularity in recent years, in part because of availability in a wide variety of flavorings21 that may be appealing to adolescents and young adults,22 the perception that e-cigarettes are less harmful than smoking,23 absence or poor enforcement of regulations on indoor use,24 and the recent popularity of product-specific venues that encourage use of these products in social situations, such as vape shops.25 Such characteristics of e-cigarettes may be recruiting new users who are deterred from initiating cigarettes because of concerns about the health hazards of smoking and social stigmatization of cigarette use.7 There is concern that the increasing prevalence of e-cigarette use could even lead to initiation of smoking among previously nonsmoking adolescent e-cigarette users in what has been described as a \\u201cgateway effect,\\u201d either as a result of social normalization of alternative product use and smoking behaviors more generally, leading to renormalization of smoking or by directly increasing use of cigarettes through establishment of reward seeking behaviors (eg, nicotine dependence).26\\u201330 Although our results demonstrated a decline in cigarette use in the past decade, we also have observed a markedly increased likelihood of intention to use cigarettes31 among e-cigarette users in the CHS in 2014 who had never smoked, results which are consistent with 2 recent studies examining the association of e-cigarette use with susceptibility to smoking,28,30 and recent longitudinal studies that have found that never-smoking e-cigarette users were more likely to report use of cigarettes a year later than never e-cigarette users.32\\u201334 The use of e-cigarettes by nonsmoking adolescents poses several potential public health problems. First, use of e-cigarettes containing nicotine may directly contribute to nicotine dependence in late adolescence or early adulthood, putting adolescents at risk for lifelong nicotine dependence.35,36 Use of e-cigarettes, even without nicotine, may normalize tobacco product use behaviors more generally, which could then lead to increased rates of addiction via use of other nicotine-containing products, including cigarettes and other harmful combustible tobacco products.35\\u201337 Second, in addition to lifelong problems associated with nicotine dependence, exposure to nicotine in adolescence adversely affects cognitive function and development.19 There is also evidence that e-cigarettes may generate aldehydes and other toxic chemicals and that flavoring additives may induce adverse respiratory health effects in e-cigarette users.38 Although the adverse health effects of e-cigarettes may be less than those of cigarettes, the long-term consequences of e-cigarette use are not known because these products have been on the market for less than a decade. \\n \\n Conclusions Longitudinal data on emerging adolescent tobacco and alternative tobacco product use, including detailed information on topography of e-cigarette use and dose of nicotine, are needed to understand the role of e-cigarettes in nicotine addiction and whether e-cigarette users who have not used combustible cigarettes will, in the future, continue using e-cigarettes only, quit using tobacco products altogether, or progress to combustible cigarette users or dual users of both products. However, the high combined prevalence of e-cigarette use or cigarette use in 2014, compared with historical Southern California smoking prevalence, suggests that adolescents are not merely substituting e-cigarettes for cigarettes but that e-cigarettes are instead recruiting a new group of users who would not likely have initiated combustible tobacco product use in the absence of e-cigarettes, which poses a potential threat to the public health of adolescent populations. ||||| E-Cigarettes 101 \\n \\n \\n \\n WebMD Feature By R. Morgan Griffin WebMD Feature \\n \\n Reviewed by Jennifer Robinson, MD \\n \\n WebMD Feature Archive \\n \\n Electronic cigarettes: Are they safer than tobacco? Or are they a high-tech way to hook a new generation on a bad nicotine habit? \\n \\n Nobody knows yet. \\n \\n Research into the effects of e-cigarettes lags behind their popularity. But ready or not, the era of e-cigarettes is here. It\\u2019s a booming, billion-dollar industry -- on track to outsell tobacco products within a decade. The number of teens and tweens using these products doubled between 2011 and 2012. \\n \\n The time to get informed about these products is now. \\n \\n How E-Cigarettes Work \\n \\n They look like the real thing. The end glows as you inhale. As you exhale, you puff out a cloud of what looks like smoke. It's vapor, similar to the fog you might see at rock shows, says M. Brad Drummond, MD. He's an assistant professor of medicine at Johns Hopkins University School of Medicine. \\n \\n All e-cigarettes work basically the same way. Inside, there's a battery, a heating element, and a cartridge that holds nicotine and other liquids and flavorings. Features and costs vary. Some are disposable. Others have a rechargeable battery and refillable cartridges. \\n \\n Using an e-cigarette is called \\\"vaping.\\\" \\n \\n Are They Safe? \\n \\n The nicotine inside the cartridges is addictive. When you stop using it, you can get withdrawal symptoms including feeling irritable, depressed, restless and anxious. It can be dangerous for people with heart problems. It may also harm your arteries over time. \\n \\n So far, evidence suggests that e-cigarettes may be safer than regular cigarettes. The biggest danger from tobacco is the smoke, and e-cigarettes don't burn. Tests show the levels of dangerous chemicals they give off are a fraction of what you'd get from a real cigarette. But what's in them can vary. \\n \\n \\\"E-cigarettes may be less harmful than cigarettes,\\\" Drummond says. \\\"But we still don't know enough about their long-term risks or the effects of secondhand exposure.\\\" \\n \\n Pro and Con \\n \\n E-cigarettes have triggered a fierce debate among health experts who share the same goal -- reducing the disease and death caused by tobacco. But they disagree about whether e-cigarettes make the problem better or worse. ||||| Nicotine experimentation could become nicotine addiction for youth who never used any other tobacco products, USC study suggests \\n \\n A new USC study debunks the popular belief that electronic cigarettes are merely a substitute for cigarettes among teens. Instead, the study suggests that some teens who never would have smoked cigarettes are now vaping. \\n \\n E-cigarettes, which entered the U.S. market in 2007, vaporize liquids that may or may not contain nicotine. In 2011, about 1.5 percent of high schoolers had vaped in the past 30 days, according to the National Youth Tobacco Survey. Four years later, that number skyrocketed to 16 percent. \\n \\n A USC study of 5,490 high school juniors and seniors shows tobacco use among teens in Southern California is on the rise. \\n \\n In 2014, about 14 percent of 12th-graders said they had either smoked or vaped in the previous 30 days. A decade earlier -- before e-cigarettes were sold in the United States -- 9 percent of surveyed teens in this age group reported that they had smoked, said Jessica Barrington-Trimis, lead author and a postdoctoral scholar research associate in the Department of Preventive Medicine at the Keck School of Medicine of USC. \\n \\n \\\"If teenagers who vape are using e-cigarettes instead of cigarettes, we would have expected to see the decline in smoking rates continue through 2014,\\\" Barrington-Trimis said. \\\"But what we've seen is a downward trend in cigarette use from 1995 to 2004 but no further decrease in cigarette smoking rates in 2014. The combined e-cigarette and cigarette use in 2014 far exceeded what we would have expected if teens were simply substituting cigarettes with e-cigarettes. The data suggest that at least some of the teens who are vaping would not have smoked cigarettes.\\\" \\n \\n The study, published on July 11 in the journal Pediatrics, followed five groups of high schoolers who graduated in 1995, 1998, 2001, 2004 and 2014. Researchers collected the history of tobacco use in an individually administered questionnaire. \\n \\n Cigarette use is the largest preventable cause of death and disease in the United States. Cigarette smoking kills more than 480,000 Americans annually, according to the Centers for Disease Control. \\n \\n \\\"An important question in the rapidly evolving landscape of youth tobacco product use is whether e-cigarettes are replacing cigarettes,\\\" said Rob McConnell, the study's senior author and professor of preventive medicine at Keck Medicine of USC. \\\"However, use of e-cigarettes by youth who would not otherwise have smoked results in exposure to the hazards of inhaled vaporized liquids and flavorings in e-cigarettes and may result in exposure to nicotine that can damage the adolescent brain.\\\" \\n \\n USC is one of 14 U.S. research institutions that received National Institutes of Health funding to establish the Tobacco Centers of Regulatory Science. \\n \\n What the numbers suggest \\n \\n The National Youth Tobacco Survey has reported a long-term decline in teen smoking rates followed by a leveling off between 2014 and 2015. \\n \\n The USC study found that the number of 12th-graders in Southern California who had smoked in the past 30 days dropped from 19 percent in 1995 to about 9 percent in 2004 and then leveled off, with the rate of smoking just under 8 percent in 2014. \\n \\n But when cigarettes and e-cigarettes were combined, some 14 percent of high school seniors in 2014 said they had smoked or vaped in the last 30 days. \\n \\n \\\"Because e-cigarettes are perceived as less harmful and less dangerous than combustible cigarettes, another concern is that teens may be introduced to nicotine use via e-cigarettes,\\\" Barrington-Trimis said. \\\"In California, where smoking rates are among the lowest in the country, the increase in vaping, possibly followed by increases in smoking, could erode the progress that has been made over the last several decades in tobacco control.\\\" \\n \\n A perilous experiment \\n \\n In fact, older teens who experiment with electronic cigarettes are six times more likely to try regular cigarettes within about a year when compared to those who have never vaped, reported Barrington-Trimis and her USC colleagues in a study published last month in Pediatrics. \\n \\n Although some e-liquid providers say their products do not contain nicotine, this industry has not been regulated until just recently. The U.S. Food and Drug Administration announced plans to regulate all tobacco products -- including e-cigarettes, cigars and hookah tobacco -- in May. Last month, California became the second state, behind Hawaii, to raise the age of tobacco purchase -- including e-cigarettes -- from 18 to 21. \\n \\n \\\"E-cigarettes may be recruiting a new group of kids to tobacco use,\\\" Barrington-Trimis said. \\\"E-cigarettes may be safer than regular cigarettes for adults who are transitioning from smoking to vaping, but for youth who have never used any other tobacco products, nicotine experimentation could become nicotine addiction.\\\" \\n \\n ### \\n \\n The study was supported by the National Institutes of Health National Cancer Institute and the Food and Drug Administration Center for Tobacco Products (P50CA180905). ||||| Abstract BACKGROUND: There has been little research examining whether e-cigarette use increases the risk of cigarette initiation among adolescents in the transition to adulthood when the sale of cigarettes becomes legal. METHODS: The Children\\u2019s Health Study is a prospectively followed cohort in Southern California. Data on e-cigarette use were collected in 11th and 12th grade (mean age = 17.4); follow-up data on tobacco product use were collected an average of 16 months later from never-smoking e-cigarette users at initial evaluation (n = 146) and from a sample of never-smoking, never e-cigarette users (n = 152) frequency matched to e-cigarette users on gender, ethnicity, and grade. RESULTS: Cigarette initiation during follow-up was reported by 40.4% of e-cigarette users (n = 59) and 10.5% of never users (n = 16). E-cigarette users had 6.17 times (95% confidence interval: 3.30\\u201311.6) the odds of initiating cigarettes as never e-cigarette users. Results were robust to adjustment for potential confounders and in analyses restricted to never users of any combustible tobacco product. Associations were stronger in adolescents with no intention of smoking at initial evaluation. E-cigarette users were also more likely to initiate use of any combustible product (odds ratio = 4.98; 95% confidence interval: 2.37\\u201310.4), including hookah, cigars, or pipes. CONCLUSIONS: E-cigarette use in never-smoking youth may increase risk of subsequent initiation of cigarettes and other combustible products during the transition to adulthood when the purchase of tobacco products becomes legal. Stronger associations in participants with no intention of smoking suggests that e-cigarette use was not simply a marker for individuals who would have gone on to smoke regardless of e-cigarette use. \\n \\n What\\u2019s Known on This Subject: Three studies have found associations between e-cigarette use and subsequent cigarette use in adolescents. However, the risk of initiation of cigarettes as adolescents reach an age at which the purchase of tobacco products becomes legal is unknown. \\n \\n What This Study Adds: Adolescents who reported e-cigarette use had more than six times the odds of initiating cigarette use as never e-cigarette users. These findings suggest e-cigarette use may increase the risk of smoking during the transition to adulthood. \\n \\n Adolescent use of e-cigarettes has increased rapidly in recent years,1 with several studies reporting higher rates of e-cigarette use than combustible cigarette use among high school students in 2014.1\\u20136 Among high school students in the National Youth Tobacco Survey, 13.4% of adolescents reported past 30-day use of e-cigarettes in 2014, compared with 9.2% of adolescents who reported past 30-day use of cigarettes.1 Among high school students participating in the Southern California Children\\u2019s Health Study (CHS), we found that 24.0% had ever tried e-cigarettes (including 9.6% who reported use in the past 30 days), compared with 18.7% who had tried cigarettes (5.7% in the past 30 days); >40% of e-cigarette users had never smoked a combustible cigarette.6 A critical question is whether e-cigarette use in adolescents who have never smoked cigarettes will lead to subsequent initiation of cigarette or other combustible product use. \\n \\n The initial data addressing this question came from several cross-sectional studies that examined the association between e-cigarette use and self-reported intention to use cigarettes among adolescents with no previous history of cigarette use, using validated survey measures.7\\u201313 E-cigarette users, representing several age groups and geographic locations, had 2 to 4 times the odds of indicating an intention to use cigarettes as never users,7,8 results consistent with those we reported in the CHS.9 To date there have been 3 reports from prospective cohort studies examining the relationship between e-cigarette use and subsequent initiation of combustible cigarette use in adolescence, including a study of 9th-grade students (mean age 14.1),14 a second study of 9th and 10th-grade students (mean age 14.7),15 and another small study of 16- to 26-year-olds, with few never-smoking e-cigarette users at baseline that was not able to examine associations within specific developmental periods in this age range.16 All studies found that e-cigarette use was associated with elevated risk of initiation of combustible cigarettes. However, the risk of initiation of combustible cigarettes is likely to vary by age17; the developmental context of the end of high school is unique, because those turning 18 face particular challenges associated with the transition to adulthood, including postsecondary education or employment seeking, which co-occur at the age (18 years) at which the purchase of tobacco products becomes legal. \\n \\n We examined whether e-cigarette use among older adolescents in the transition to adulthood leads to greater likelihood of initiation of cigarettes as they reach the legal age to purchase cigarettes. We used prospective data from the CHS, a population-based cohort of adolescents from whom data on e-cigarette use were first collected in grades 11 or 12 (mean age 17.4) in spring of 2014, to examine risk of initiation of combustible tobacco products at follow-up (median 15.6 months later). We hypothesized that never-smoking e-cigarette users in this critical age range would be more likely than never-smoking never e-cigarette users to begin using combustible cigarettes during the subsequent year. \\n \\n Methods Study Design and Sample Participants enrolled in the CHS completed the initial evaluation questionnaire in school classrooms when they were in 11th or 12th grade. Questionnaires were completed with study staff supervision between January 2014 and June 2014, when use of e-cigarettes was first assessed in the cohort.6,18 To maximize efficiency in the design of the prospective follow-up study to evaluate the risk of cigarette and other combustible tobacco product initiation associated with e-cigarette use, we used an exposure frequency-matched cohort study design in which we contacted never-smoking e-cigarette users and a sample of never-smoking never e-cigarette users to complete a follow-up questionnaire (Fig 1). We attempted to contact all never-smoking e-cigarette users (n = 213) and a randomly selected frequency matched sample of never-smoking, never e-cigarette users (n = 213) from among all never-smoking never e-cigarette users in the cohort at initial evaluation; never-users were frequency matched to e-cigarette users by gender, ethnicity, and grade (11 or 12). Participants completed an online follow-up questionnaire between February 2015 and March 2016. Follow-up questionnaires were completed by 149 (70.0%) e-cigarette users and 154 (72.3%) never e-cigarette users; 146 e-cigarette users and 152 never users provided complete data on their use of cigarettes between initial evaluation and follow-up and were included in analyses. All participants were 18 years of age or older at follow-up. Participants turning 18 were sent a link to the follow-up online survey by e-mail (using e-mail address provided at the 11th- and 12th-grade data collection); additional attempts to contact participants were made by text message and telephone calls. Those not responding or who had not provided other contact information were sent letters soliciting participation to the last known residential address or were contacted through parents or other contacts previously provided by participants. FIGURE 1 Selection of participants for assessment of the association between e-cigarette use and subsequent initiation of combustible cigarettes. Ethics Statement The study was approved by the University of Southern California Institutional Review Board. Participants aged 18 or older provided written informed consent. Written parental informed consent and student assent were obtained for all CHS participants before data collection in 2014. Measures Tobacco and Alternative Tobacco Product Use At each survey, participants were asked whether they had ever tried e-cigarettes, cigarettes, cigars, pipes, or hookah and the number of days each product was used in the past 30 days.6 Participants who had \\u201cnever tried\\u201d a product (not \\u201ceven 1 or 2 puffs\\u201d) were classified as \\u201cnever users.\\u201d Those reporting an age at first use of each tobacco product were classified as \\u201cever users\\u201d of that product. All analyses were restricted to never cigarette smokers at initial evaluation. Sociodemographic Characteristics Self-administered questionnaires completed by parents of participants18 were used to assess gender, ethnicity (Hispanic, non-Hispanic white, other), and parental education (highest level of education of either parent; <12th grade, high school diploma or general equivalency diploma, some college, college degree, some graduate school or higher). Susceptibility to Cigarette Use Susceptibility to tobacco product use has been defined as the absence of a firm commitment not to smoke.10,11,13 In the current study, susceptibility to future cigarette use was assessed using validated measures (see Supplemental Material). Adolescents were classified as having no susceptibility if they responded \\u201cdefinitely not\\u201d to questions about intention to initiate use of cigarettes in the future.10 Social Environment The cigarette social environment was evaluated based on the following questions: (1) \\u201cHow many of your 4 closest friends use [cigarettes]?\\u201d (0\\u20134 friends); (2) \\u201cHow would your best friends act toward you if you used [cigarettes]?\\u201d (very unfriendly, unfriendly, friendly, or very friendly); and (3) \\u201cDoes anyone who lives with you now use [cigarettes]?\\u201d (yes/no). These factors have been strongly associated with cigarette use17 and more recently have been associated with e-cigarette use in the CHS.6 Statistical Analysis On the basis of prospectively collected data, we used unconditional logistic regression models to evaluate the association between e-cigarette use at initial evaluation and subsequent cigarette use at follow-up. Odds ratios (ORs) and 95% confidence intervals (CIs) were used to estimate the odds of smoking initiation. All models were adjusted for gender, ethnicity, grade and highest parental education, factors that have been associated both with e-cigarette use and cigarette use in previous studies.17,19 Potential confounding by history of combustible tobacco use other than cigarettes at initial evaluation, social environment characteristics, age at initial evaluation, age at follow-up, and time from initial evaluation to follow-up (in months) was evaluated on the basis of a change in effect estimate of >10% with inclusion of any of these variables. A missing indicator category was included where appropriate. Formal tests of interaction were used to evaluate whether effect estimates differed by gender, ethnicity (Hispanic white, non-Hispanic white, other), grade (11 or 12), ever use of hookah (a combustible product that has been previously associated with e-cigarette use,20 yes versus no), or susceptibility to smoking at initial evaluation (yes vs no). Additional analyses evaluated the risk of initiation of any combustible tobacco product (cigarettes, cigars, hookah, or pipes) associated with e-cigarette use at initial evaluation. Polytomous regression models were used to evaluate the risk of initiation of cigarette use (but no use in the past 30 days) and the risk of past 30-day cigarette use, relative to participants not initiating use of cigarettes. In sensitivity analyses, models evaluating the risk of initiation of cigarettes were restricted to nonusers of any combustible tobacco product at initial evaluation (cigarettes, cigars, hookah, pipes). All statistical analyses were based on 2-sided hypotheses tested at a .05 level of significance. Analyses were performed using SAS 9.4. Role of the Funding Source The funder had no role in the design and conduct of the study; collection, management, analysis, or interpretation of the data; or preparation, review, or approval of the manuscript. \\n \\n Results E-cigarette users and never users were similar on matching factors (gender, ethnicity, grade) and parental education. In adjusted models males were more likely to initiate cigarette use (OR = 1.84; 95% CI: 1.04\\u20133.26; Table 1). Adolescents who were classified as susceptible to cigarette use were more likely to report e-cigarette use at initial evaluation (OR = 2.48; 95% CI: 1.44\\u20134.27) and to report cigarette use at follow-up (OR = 3.03; 95% CI: 1.71\\u20135.39). Having one or more friends who smoked combustible tobacco products also increased the likelihood of e-cigarette use at initial evaluation (OR = 2.61; 95% CI: 1.35\\u20135.06) and cigarette use at follow-up (OR = 2.58; 95% CI: 1.30\\u20135.09); having friends who were friendly to cigarette use was associated with e-cigarette use at initial evaluation (OR = 2.13; 95% CI: 1.24\\u20133.65) but not with cigarette use at follow-up. The median age of participants at initial evaluation was 17.4 years (interquartile range [IQR]: 16.8\\u201317.9); median age at follow-up was 18.6 years (IQR: 18.3\\u201319.0 years); median time from initial evaluation to follow-up was 15.6 months (IQR: 12.6\\u201318.2 months). TABLE 1 Demographic Characteristics of Participants by E-Cigarette Use at Initial Assessment and by Cigarette Use at Follow-up, N = 298 To assess the potential for selection bias, we compared sociodemographic characteristics of study participants for whom follow-up data were obtained with those lost to follow-up. Participants from whom follow-up data were collected were more likely to have a parent with at least a college education (Supplemental Table 5). No notable differences in gender, ethnicity, grade, or susceptibility to cigarette use were observed between retained participants and those lost to follow up. Among never e-cigarette users at initial evaluation, 16 (10.5%) reported use of cigarettes at follow-up; among ever e-cigarette users at the initial evaluation, 59 (40.4%) reported use of cigarettes at follow-up (Table 2). The adjusted OR for the association of e-cigarette use with subsequent smoking of combustible cigarettes was 6.17 (95% CI: 3.30\\u201311.6). After further adjustment for cigar, pipe, or hookah use at initial evaluation, the association of e-cigarette use with subsequent smoking was slightly attenuated but still statistically significant (OR = 5.48; 95% CI: 2.69\\u201311.2). Results did not differ appreciably after additional adjustment for social environment characteristics at initial evaluation (whether others in the home smoked, number of friends who smoked, friends\\u2019 attitudes toward smoking), age at initial evaluation, age at follow-up, or time in months from initial evaluation to follow-up (results not shown). E-cigarette users had 5.49 times (95% CI: 2.68\\u201311.2) the odds of initiating cigarette smoking but not having smoked in the past 30 days, and 7.50 times (95% CI: 2.41\\u201323.4) the odds of reporting use of cigarettes in the past 30 days at follow-up compared with never e-cigarette users. Estimates were based on 39 (27.1%) initiators and 18 (12.5%) past 30-day cigarette users among e-cigarette users at baseline, compared with 12 (7.9%) initiators and 4 (2.6%) past 30-day cigarette users among never e-cigarette users at baseline; 2 participants reported initiation of smoking but did not report the number of days smoked in the past 30 days (results not tabulated). TABLE 2 Association Between E-Cigarette Use at Initial Assessment in 2014 and Subsequent Cigarette Use at Follow-up in 2015 Among adolescents who were not classified as susceptible to cigarette use at initial evaluation, 36.2% (n = 34) of e-cigarette users and 5.7% (n = 7) of never e-cigarette users reported initiation of cigarettes at follow up (OR not susceptible = 9.69; 95% CI: 4.02\\u201323.4; Table 3). In contrast, among those who were classified as susceptible to smoking at initial evaluation, e-cigarette users were only slightly more likely to initiate cigarette use at follow-up (47.1% v. 32.1%; OR susceptible = 2.12; 95% CI: 0.79, 5.74; interaction P = .03). We also examined interactions of e-cigarette use at initial evaluation with gender, ethnicity, grade level, time from initial contact to completion of follow-up questionnaire, and use of hookah at initial evaluation. The risk of initiation of cigarette use associated with e-cigarettes did not differ by these characteristics. TABLE 3 Association Between E-Cigarette Use at Initial Assessment in 2014 and Subsequent Cigarette Use at Follow-up in 2015 by Indication of Susceptibility to Smoking at Initial Evaluation In an analysis restricted to those who reported no use of any combustible tobacco product at initial evaluation, e-cigarette users were also more likely to initiate use of any combustible tobacco product at follow-up (OR = 4.98; 95% CI: 2.37\\u201310.4; Table 4) and to initiate use of cigarettes (OR = 4.29; 95% CI: 1.84\\u201310.0), hookah (OR = 2.86; 95% CI: 1.21\\u20136.78), cigars (OR = 4.39; 95% CI: 1.72\\u201311.2), and pipes (OR = 8.21; 95% CI: 1.20\\u201356.2). TABLE 4 Association Between E-Cigarette Use at Initial Assessment in 2014 and Subsequent Cigarette Use at Follow-up in 2015, Restricted to Never Users of Any Combustible Tobacco Product \\n \\n Discussion We prospectively evaluated the risk of smoking initiation associated with e-cigarette use in the transition to adulthood when it becomes legal to purchase cigarettes. In this sample of never cigarette users at initial evaluation, >40% of e-cigarette users initiated cigarette use during the 16-month (average) follow-up. Those who reported e-cigarette use had >6 times the odds of initiating cigarette use as never e-cigarette users. The associations remained statistically significant after adjustment for use of other combustible tobacco products at study entry and for social environmental factors. The increased risk of smoking initiation associated with previous e-cigarette use was also observed in sensitivity analyses restricted to never-users of any combustible tobacco product at initial evaluation; moreover, risk of subsequent initiation of any combustible tobacco product was also increased. Notably, the association of e-cigarettes with initiation of cigarette use was much stronger among those classified as not susceptible to becoming smokers. These findings suggest that e-cigarette use may promote smoking during the transition to adulthood, even in those considered to be at lower risk because of personal or environmental factors. Three studies on the longitudinal association between e-cigarette use and subsequent cigarette use among adolescents have been published.14\\u201316 In the first, among ninth-grade students (mean age 14.1 years) with no history of combustible tobacco product use at initial evaluation, those who reported ever use of e-cigarettes had 1.75 (95% CI: 1.10\\u20132.77) times the odds as never users of reporting subsequent use of cigarettes 12 months later, and 2.73 (95% CI: 2.00\\u20133.73) times the odds of reporting use of any combustible tobacco product after adjustment for ever use of nonnicotine or tobacco substances, smoking expectancies (whether adolescents think they will enjoy smoking, or feel bad from smoking), and other potentially confounding characteristics at study entry.14 The second study was also among younger youth in grades 9 and 10 at baseline (mean age 14.7 years) and found similar results: e-cigarette users had 2.87 (95% CI: 2.03\\u20134.05) times the odds of initiating combustible cigarette use between baseline and follow-up 1 year later as never users, after adjustment for age, gender, ethnicity, parental education, parental support, and rebelliousness.15 The third study found similar prospective associations in adolescents and young adults 16 to 26 years of age who reported being nonsusceptible to smoking at baseline, but the estimates were based on only 16 never-smoking e-cigarette users at initial evaluation.16 The current results extend the literature by showing that these associations generalize to the period at the end of high school. Our findings, together with those from the other prospective studies of youth and young adult populations, suggest that e-cigarette use is a clear and consistent indicator of likelihood of subsequent initiation of cigarette and other combustible tobacco product use at ages spanning from early adolescence through emerging adulthood. It is possible in principle that e-cigarette use among never smoking adolescents is a marker for those who would have begun to smoke even if e-cigarettes were not available. In these adolescents, the availability of e-cigarettes use may have delayed the initiation of smoking among those who would have gone on to smoke anyway. However, the risk of smoking associated with e-cigarette use was even higher among participants who reported no intention to smoke at initial assessment than among the group of adolescents who indicated they were likely to begin smoking. Among nonsusceptible individuals, 36% of e-cigarette users initiated cigarette use, compared with only 6% of nonusers (Table 3). Another recent study found that e-cigarette users had different psychological profiles than cigarette users.21,22 Together, these findings suggest that e-cigarettes are not merely a marker for individuals who would have gone on to smoke combustible cigarettes, regardless of the availability of e-cigarettes, but that e-cigarette use is likely introducing new youth to tobacco products and is increasing the likelihood of future smoking among the low-risk group who expressed confidence that they would not do so. It is also possible that e-cigarette users who initiated smoking were more likely to be experimenting with cigarettes and less likely than other initiators to progress to regular cigarette use and nicotine dependence. The duration of follow-up and small sample size (particularly among never e-cigarette users who began smoking) was insufficient to fully address this question. However, the prospective association of e-cigarette use with cigarette use in the past 30 days was similar to that for initiation but no use in the past 30 days. These results provide no evidence that e-cigarette users who initiate smoking are any less likely to progress to regular use of cigarettes than youth who did not begin tobacco use with e-cigarettes. There are some uncertainties to the conclusions from this study. Participants who were lost to follow-up were less likely to have a parent with at least a college education. However, in analyses examining whether the risk of initiation of smoking associated with e-cigarette use differed by education, no interaction was observed, nor were the estimates of effect of e-cigarette use on cigarette initiation confounded by education; thus, differential loss to follow-up in the cohort seems unlikely to be an explanation for the observed results. We did not collect information on type of e-cigarette used or nicotine content of e-cigarette at initial evaluation, factors that may increase the likelihood of transition from e-cigarette to cigarette or other combustible tobacco use. Although the study addresses a potentially vulnerable age range, results may not be generalizable to older populations or to other geographic regions. Finally, because the rate of initiation of cigarette use in never e-cigarette users was low in our Southern California population (10.5% based on 16 new users), the odds ratio associated with e-cigarette use was not precisely estimated. However, the associations were large and highly statistically significant. There are several plausible mechanisms through which e-cigarette use in adolescence may lead to subsequent initiation of cigarettes or other combustible tobacco products.17,23,24 E-cigarettes may lead to initiation of use of other combustible products because flavorings desensitize users\\u2019 lungs to the harsh and aversive effects of nicotine inhalation, providing a more gradual transition from never smoking to use of combustible cigarettes or other combustible products. Flavorings, in combination with devices appealing to youth in this technological age (eg, \\u201ctechie\\u201d e-devices with programmable settings) may act to promote smoking initiation among adolescents and may also play a role in product use maintenance or progression to greater levels of use. Regular use of nicotine, and the development of nicotine dependence, may also lead adolescents to seek other forms of nicotine. Adolescents first introduced to nicotine via e-cigarettes may develop a dependence on nicotine and may then move on to other forms of nicotine, including cigarettes or other combustible products. Individuals genetically susceptible to the addictive properties of nicotine may be at particularly high risk. Finally, rapid increases in e-cigarette use in adolescent populations have already begun to contribute to the normalization of e-cigarette use, which indirectly functions to normalize \\u201csmoking-like\\u201d behaviors more generally (eg, clouds of smoke/vapor in public places become normative). The normalization of these social behaviors may facilitate initiation of cigarette smoking if society becomes more accepting of alternative tobacco product use. Future work exploring these and other mechanisms through which e-cigarette use in adolescence may influence willingness to initiate cigarette smoking is warranted. Regardless of the mechanisms underlying the associations of e-cigarettes with cigarette use, this research adds much needed data to the emerging evidence that e-cigarettes are associated with increased risk of smoking among adolescents. Because e-cigarette use is common in adolescents and young adults, further prospective follow-up of this and other cohorts is needed to determine whether e-cigarette use will increase population rates of cigarette and other combustible tobacco products and their associated burden of disease. \\n \\n Footnotes Accepted April 7, 2016. \\n \\n April 7, 2016. Address correspondence to Jessica Barrington-Trimis, PhD, 2001 N. Soto St, 230-D, Los Angeles, CA 90089. E-mail: jtrimis{at}usc.edu \\n \\n FINANCIAL DISCLOSURE: The authors have indicated they have no financial relationships relevant to this article to disclose. \\n \\n FUNDING: Research reported in this publication was supported by grant P50CA180905 from the National Cancer Institute at the National Institutes of Health and the Food and Drug Administration Center for Tobacco Products. The funder had no role in the design and conduct of the study; collection, management, analysis, or interpretation of the data; or preparation, review, or approval of the manuscript. Funded by the National Institutes of Health (NIH). \\n \\n POTENTIAL CONFLICT OF INTEREST: The authors have indicated they have no potential conflicts of interest to disclose.\",\n          \"Natasha Exelby has paid a high price for her weekend blooper, after the humorless management at ABC24 banned the newsreader from playing any future on-air role. \\n \\n Exelby, who only recently returned from a foreign correspondent and anchor role with Turkish broadcaster TRT World, was told Monday she has been axed from newsreading duties, after being caught off guard during a live news shift Sunday. \\n \\n In video that has since gone viral, the former \\u201cWake Up!\\u201d co-host is seen looking startled as she suddenly realizes the cameras have returned to her after a prerecorded package has finished. \\n \\n It\\u2019s a slip-up almost every newsreader in the world has committed, but rarely costs the TV presenter their on-air job. \\n \\n The decision to bench the freelance newsreader and producer comes from the same broadcaster widely criticized for the more serious charge of failing to vet the audience of its panel program \\u201cQ&A\\u201d and allowing one-time terror suspect Zaky Mallah to join the live TV debate. \\n \\n The error, described by then-Prime Minister Tony Abbott as \\u201ccompletely incomprehensible\\u201d and compounded when it was rebroadcast on ABC24, saw no one from the program sacked. \\n \\n Most viewers laughed off Exelby\\u2019s innocuous gaffe, posted by the ABC\\u2019s own Media Watch program \\u2014 it sparked waves of support, rather than acrimony, for the \\u201cmortified\\u201d news professional. \\n \\n SBS newsreader Janice Petersen tweeted a screen grab of herself caught putting lipstick on while live, writing in solidarity: \\u201cit happens.\\u201d \\n \\n Sky News political reporter Samantha Maiden celebrated the human error, telling her Twitter followers: \\u201cthat\\u2019s @NatashaExelby and she\\u2019s awesome. She\\u2019s too much for @ABCmediawatch. Too fabulous.\\u201d \\n \\n Exelby told News Corp. \\u201cit would be inappropriate for me to comment.\\u201d \\n \\n Exelby was told Monday she would no longer be used in an on-air role, an ABC spokesman said in a statement: \\u201cNatasha Exelby is a casual contributor, not a staff member. She has been booked for occasional on-air shifts when needed, and also does other occasional shifts for the ABC News channel. \\n \\n \\u201cContributors work out their shifts with managers on a per needs basis. Details of individuals\\u2019 shifts are confidential to them and not something the ABC publicly comments on.\\u201d \\n \\n News Corp. is pursuing ABC management for further comment, addressing directly her removal from newsreading duties, either as a freelancer or otherwise. ||||| This article is over 1 year old \\n \\n Freelance journalist Natasha Exelby \\u2018read the riot act\\u2019 and offered more training after series of missteps, but will remain in casual production role \\n \\n \\u2018Slip-ups will happen\\u2019: ABC says presenter won\\u2019t be fired over TV blooper \\n \\n A casual journalist at the ABC, Natasha Exelby, has been taken off air after she missed her cue on live TV and video of her dramatic reaction went viral. \\n \\n The ABC director of news, Gaven Morris, has denied Exelby is being punished and said reports she had been fired or banned were untrue. \\n \\n \\n \\n \\u201cLive television is a demanding art and slip-ups will happen \\u2013 our presenters are humans, not robots,\\u201d Morris said. \\n \\n \\u201cWe take on-air standards extremely seriously, but we don\\u2019t expect perfection. No one would ever be punished for a blooper and, while it isn\\u2019t appropriate to publicly discuss confidential details of people\\u2019s personal work arrangements, this has not happened to Natasha.\\u201d \\n \\n Morris said he has assured Exelby the ABC wants her to continue working various shifts she has been rostered for. \\n \\n \\u201cWhile she is not currently doing any on-air shifts, this will be subject to normal performance management. I have spoken to Natasha and conveyed our regret that this has attracted such attention.\\u201d \\n \\n Footage of Exelby playing with her pen then apparently realising she is on air and gasping in horror has endeared her to the public, with calls for her to return to Australia\\u2019s TV screens and a petition, which had garnered more than 3,000 signatures by Tuesday morning. \\n \\n The ABC has denied Exelby has been banned or sacked. \\n \\n Guardian Australia understands that after a series of missteps including Sunday\\u2019s high-profile blooper she was \\u201cread the riot act\\u201d by news management on Monday. \\n \\n Sources said Exelby had been offered more training and may be given on-air shifts again at a later stage. \\n \\n Natasha Exelby (@NatashaExelby) Thank U all for ur generous support. Not my finest hour. Myself and my mesmerising pen honourably salute you! \\n \\n After the Daily Telegraph reported on Monday that the Queensland-born journalist had been \\u201cbanned\\u201d, the opposition leader, Bill Shorten, led calls on Twitter for her reinstatement. \\n \\n Bill Shorten (@billshortenmp) It's live TV. This is just ridiculous.https://t.co/xy6dp7nKwi \\n \\n Russell Crowe (@russellcrowe) Come on ABC - Australian Broadcasting Commission - talk about an over reaction to an over reaction . Free @NatashaExelby !!! https://t.co/4xALx8V5PN \\n \\n Kevin Rudd (@MrKRudd) Don't worry @NatashaExelby. Just a flesh wound. Check out my swearing video if you want a serious #blooper. Australia wants you back on air. pic.twitter.com/RSDTgR1X3U \\n \\n Presenters and other journalists shared stories about their embarrassing mistakes while at work. \\n \\n Grant Denyer (@grantdenyer) Nothing wrong with a bit of day dreaming at work @NatashaExelby . I fell asleep while on air. #putyourbloopersout pic.twitter.com/10CE3Cqkph \\n \\n Sally Rawsthorne (@sallyrawsthorne) I asked for an interview with someone who has been dead since 1962 #putyourbloopersout \\n \\n Amelia Gilbert (@ameliagilbert) Sorry @NatashaExelby, but @LeeLinChinSBS had the greatest blooper of all time https://t.co/SqXtA3S9Sd #PutYourBloopersOut \\n \\n It\\u2019s not the first time Exelby has been caught in an inappropriate reaction on live TV. Several years ago on Ten she giggled repeatedly while reading serious news items about deaths and disasters. \\n \\n Facebook Twitter Pinterest Natasha Exelby giggles while reading the news \\n \\n The ABC would not be drawn on the circumstances of the blooper and released a statement saying Exelby was a casual contributor and not a staff member: \\u201cShe has been booked for occasional on-air shifts when needed, and also does other occasional shifts for the ABC News channel. Contributors work out their shifts with managers on a per-needs basis. We don\\u2019t comment on the details of people\\u2019s work arrangements.\\u201d \\n \\n Exelby is best known as a co-host of the disastrous breakfast show Wake Up on Ten, which was launched by the former Seven Sunrise executive producer Adam Boland in late 2012. \\n \\n She was dumped as co-host after just 13 days on air and rock-bottom ratings. Boland blamed her sudden exit on her \\u201cchemistry\\u201d with the two other co-hosts, James Mathieson and Natarsha Belling. \\n \\n The entire show was axed in May 2014 owing to lacklustre ratings. ||||| \\\"She has been booked for occasional on-air shifts when needed, and also does other shifts for the ABC News channel. Contributors work out their appearances with managers on a per needs basis. Details of individuals' shifts are confidential to them and not something the ABC publicly comments on,\\\" the spokesman said.\",\n          \"White House communications director Anthony Scaramucci took a page out of President Trump\\u2019s playbook Wednesday night with a tweet threatening to sic the FBI on a supposed information leaker. \\u201cIn light of the leak of my financial disclosure info which is a felony. I will be contacting the FBI and the Justice Department,\\u201d Scaramucci wrote, inexplicably tagging White House Chief of Staff Reince Priebus. Scaramucci did not specify what information was leaked, but a Politico article cited the incoming communications director\\u2019s required financial disclosure in reporting he earned $4.9 million since last year from his ownership stake in investment firm SkyBridge. Scaramucci appeared to delete the tweet, but in a subsequent post said Priebus was among the senior White House officials helping to crack down on leaks. ||||| The incoming White House communications director earned $4.9 million from his ownership stake in SkyBridge. | Pablo Martinez Monsivais/AP Scaramucci still stands to profit from SkyBridge from the White House The newly named White House communications director has earned millions from ownership stake since last year, according to his financial disclosure. \\n \\n Anthony Scaramucci finally has his White House job, but he still stands to profit from an ownership stake in his investment firm SkyBridge Capital. \\n \\n The incoming White House communications director earned $4.9 million from his ownership stake in SkyBridge in addition to more than $5 million in salary between Jan. 1, 2016, and the end of June, when he joined the Export-Import Bank, according to a financial disclosure filed with the Office of Government Ethics. \\n \\n Story Continued Below \\n \\n The disclosure form, which is publicly available upon request, hasn\\u2019t been previously reported. \\n \\n The disclosure highlights the extensive wealth Scaramucci has accumulated in his career \\u2014 much like many of Trump\\u2019s other top advisers and Cabinet secretaries \\u2014 and also the challenge he faces in extracting himself from the potential conflicts his investments could pose. \\n \\n Scaramucci\\u2019s financial filing values SkyBridge Capital at more than $50 million and states that he owns nearly 44 percent of the firm. When the sale of the company is completed, expected to be in the third quarter of this year, he will receive \\u201cthe agreed-upon purchase price for his share of the sale proceeds,\\u201d according to the filing. \\n \\n Bloomberg valued the Skybridge deal at between $200 million and $230 million when it was announced in January. \\n \\n \\u201cIt\\u2019s black and white that he\\u2019s going to get money,\\u201d said Austin Evers, executive director at American Oversight, a watchdog group that focuses on transparency in government. \\n \\n The SkyBridge website continues to advertise Scaramucci as the firm's managing director, despite the fact that he has been a government employee for more than a month. A SkyBridge spokeswoman said Scaramucci stepped down from the executive post Jan. 17, when the company\\u2019s sale was announced. He remained an employee of the firm, collecting a salary, until starting at Ex-Im last month. \\n \\n The investment firm, which Scaramucci founded in 2005, is in the process of being sold to RON Transatlantic and Chinese conglomerate HNA Group. The sale, set in motion in January when Scaramucci was shedding his holdings in anticipation of landing an administration job, has drawn the scrutiny of regulators and is taking longer than expected to close. \\n \\n The interagency Committee on Foreign Investment in the United States is examining the deal to ensure that it carries no risk to national security. The panel\\u2019s review, which comes amid ramped-up scrutiny of business dealings with China, ultimately can be overruled by President Donald Trump. \\n \\n Scaramucci said Friday his start date wouldn\\u2019t be until August so that everything can be \\u201c100 percent totally cleansed and clean and I don\\u2019t see an issue with it.\\u201d \\n \\n White House spokeswoman Natalie Strom referred questions about Scaramucci\\u2019s SkyBridge investment to the Treasury. Treasury spokeswoman Marisol Garibay did not respond to requests for comment. \\n \\n Scaramucci, a Trump fundraiser and frequent campaign surrogate whose appointment to an administration post was delayed in part because of the complicated nature of the SkyBridge sale, joined Ex-Im in June. \\n \\n Ex-Im was seen as a \\\"very temporary move,\\\" a way to get the Trump loyalist to Washington until a higher-level position could be found, according to one White House adviser. \\n \\n The bank is across the street from the White House, where Scaramucci was free to come and go thanks to security credentials that gave him 24-hour access. That allowed him to elude the detection of senior White House staffers, including chief of staff Reince Priebus. \\n \\n Scaramucci has been on unpaid leave from Ex-Im since the day he started there, June 19, a bank spokeswoman said, forgoing his $172,100 salary as chief strategy officer. \\n \\n A friend said Scaramucci thought his stay at the bank would be longer-lived and that the White House job came unexpectedly. \\n \\n In his disclosure, Scaramucci listed assets worth as much as $85 million. He has several real estate investments, including single-family rental homes on Long Island. \\n \\n A minority stake in the New York Mets is worth as much as $5 million. He also is an investor in Juice Press, a chain of snack and smoothie shops in the Northeast. \\n \\n Scaramucci earned $200,000 in income from a majority stake in Hastings Capital Group, according to his financial disclosure. That ownership share also will be sold as part of the SkyBridge deal with RON and HNA. \\n \\n As a contributor to Fox News, Scaramucci earned about $88,000, according to his financial disclosure. \\n \\n He has three mortgages with U.S. Bank for a total liability of $2.5 million to $7 million. \\n \\n Josh Dawsey contributed to this report. ||||| Tweet with a location \\n \\n You can add location information to your Tweets, such as your city or precise location, from the web and via third-party applications. You always have the option to delete your Tweet location history. Learn more ||||| WASHINGTON \\u2014 In the five days since he was named White House communications director, Anthony Scaramucci has vowed to hunt down leakers and fire anyone he catches. By the end of his fifth day, he was on the receiving end of what he called a leak about himself. \\n \\n The financial disclosure form that Mr. Scaramucci filed with the government appeared on Politico\\u2019s website on Wednesday night, showing that he has assets worth as much as $85 million. He made $5 million in salary and another $4.9 million from his ownership stake in his investment firm SkyBridge Capital in the first six months of this year, according to the filing. \\n \\n Mr. Scaramucci responded angrily. \\u201cIn light of the leak of my financial disclosure info which is a felony,\\u201d he wrote on Twitter, \\u201cI will be contacting @FBI and the @TheJusticeDept.\\u201d \\n \\n He added the hashtag #swamp, reflecting President Trump\\u2019s promise to drain the swamp, and then included the Twitter handle of Reince Priebus, the White House chief of staff, who opposed Mr. Scaramucci\\u2019s appointment last week.\"\n        ],\n        \"semantic_type\": \"\",\n        \"description\": \"\"\n      }\n    },\n    {\n      \"column\": \"summary\",\n      \"properties\": {\n        \"dtype\": \"string\",\n        \"num_unique_values\": 5622,\n        \"samples\": [\n          \"\\u2013 Denis Finley has taken to Twitter to call Politico a \\\"whore,\\\" sniff about David Letterman's upcoming Netflix show featuring Barack Obama, and call for the destruction of all office buildings, but it was his tweets about a potential change to Vermont's driver's licenses that cost him his job as editor of the Burlington Free Press. The paper reports Finley was fired by honchos at parent company Gannett on Monday evening after he was found to have repeatedly flouted its social media rules. \\\"We encourage our journalists to engage in a meaningful dialogue on social media, but ... the conversation [should] adhere to our overarching values of fairness, balance, and objectivity,\\\" says an exec from the USA Today Network, Gannett's main brand. Poynter explains Finley's demise came after he reacted to Vermont's proposal to add the gender option \\\"X\\\" to \\\"F\\\" and \\\"M\\\" on driver's licenses. The Washington Post documents the Twitter exchange between commenters who were lauding Vermont's decision and Finley. After one user noted the news was \\\"awesome,\\\" Finley replied: \\\"Awesome! That makes us one step closer to the apocalypse.\\\" When someone else tweeted the recognition of different genders was awesome, Finley wrote: \\\"All recognition? \\u2026 What if someone said it's awesome they are going to recognize pedophiliacs on licenses? I'm not being snarky, I'm just asking.\\\" Poynter notes some readers threatened to cancel their Free Press subscriptions over the tweets. \\\"'Reader engagement' is not making provocative statements and then picking fights with people who disagree,\\\" an editor for a string of other local Vermont papers says. Emilie Stigliani, the Free Press' planning editor, will temporarily step in as Finley's replacement.\",\n          \"\\u2013 CNN's Piers Morgan thinks gun-rights proponent Alex Jones's memorable appearance on his show last night made a fine case\\u2014for his opponents. \\\"He was the best advertisement for gun control you could wish for,\\\" Morgan tells Politico, referring to the conservative radio host. \\\"That kind of vitriol, hatred, and zealotry is really quite scary.\\\" Jones is the guy who started the White House petition to get Morgan deported because of the CNN host's push for stricter gun laws. The White House last night promised to respond to the petition because it easily surpassed the threshold of 25,000 signatures, notes the Daily Caller. But \\\"it is worth remembering that the freedom of expression is a bedrock principle in our democracy,\\\" said spokesman Jay Carney, suggesting Jones better not hold his breath. Jones himself, meanwhile, posted a video after his CNN appearance, telling supporters that \\\"if something happens to us, or we\\u2019re killed by crackheads, it was the NYPD or mafia they hired,\\\" reports Mediaite. Yeah, that's right: \\u201cIf you don\\u2019t know that (Mayor) Bloomberg is total mafia, you\\u2019re on another planet.\\\"\",\n          \"\\u2013 New White House communications director Anthony Scaramucci was not happy about what he believed was a leak of information from his financial disclosure Wednesday\\u2014though it later emerged that the form was available to the public. \\\"In light of the leak of my financial disclosure info which is a felony. I will be contacting @FBI and @TheJusticeDept #swamp @Reince45,\\\" Scaramucci said in a now-deleted tweet, per the Daily Beast. Scaramucci later denied suggestions that his tagging of Reince Priebus was a declaration of war on the White House chief of staff. \\\"Wrong! Tweet was public notice to leakers that all Sr Adm officials are helping to end illegal leaks,\\\" Scaramucci said in a second tweet. The disclosure information believed to have enraged Scaramucci appeared in a Politico report late Wednesday. According to the report, Scaramucci earned $4.9 million from his ownership stake in the SkyBridge Capital plus more than $5 million in salary from Jan. 1, 2016, to the end of June this year, when he began a short-lived stint at the federal Export-Import Bank. The New York Times notes that Scaramucci filed the disclosure form June 23 and under federal law, it would have been available to the public 30 days later. \\\"They aren't in process yet,\\\" Scaramucci wrote to the Times after being asked why he thought the report had been leaked. He didn't respond after being told it would have been available July 23.\"\n        ],\n        \"semantic_type\": \"\",\n        \"description\": \"\"\n      }\n    }\n  ]\n}"
            }
          },
          "metadata": {},
          "execution_count": 6
        }
      ],
      "source": [
        "multinews.to_pandas()"
      ]
    },
    {
      "cell_type": "markdown",
      "metadata": {
        "id": "8N5CbdyO4Atp"
      },
      "source": []
    },
    {
      "cell_type": "code",
      "execution_count": null,
      "metadata": {
        "colab": {
          "base_uri": "https://localhost:8080/"
        },
        "id": "BNHTBc9D4oqO",
        "outputId": "8f25cc32-2bbb-4dbe-c648-b12e22bc8bcc"
      },
      "outputs": [
        {
          "output_type": "stream",
          "name": "stdout",
          "text": [
            "Requirement already satisfied: datasets in /usr/local/lib/python3.11/dist-packages (2.14.4)\n",
            "Collecting datasets\n",
            "  Downloading datasets-3.6.0-py3-none-any.whl.metadata (19 kB)\n",
            "Requirement already satisfied: filelock in /usr/local/lib/python3.11/dist-packages (from datasets) (3.18.0)\n",
            "Requirement already satisfied: numpy>=1.17 in /usr/local/lib/python3.11/dist-packages (from datasets) (2.0.2)\n",
            "Requirement already satisfied: pyarrow>=15.0.0 in /usr/local/lib/python3.11/dist-packages (from datasets) (18.1.0)\n",
            "Requirement already satisfied: dill<0.3.9,>=0.3.0 in /usr/local/lib/python3.11/dist-packages (from datasets) (0.3.7)\n",
            "Requirement already satisfied: pandas in /usr/local/lib/python3.11/dist-packages (from datasets) (2.2.2)\n",
            "Requirement already satisfied: requests>=2.32.2 in /usr/local/lib/python3.11/dist-packages (from datasets) (2.32.3)\n",
            "Requirement already satisfied: tqdm>=4.66.3 in /usr/local/lib/python3.11/dist-packages (from datasets) (4.67.1)\n",
            "Requirement already satisfied: xxhash in /usr/local/lib/python3.11/dist-packages (from datasets) (3.5.0)\n",
            "Requirement already satisfied: multiprocess<0.70.17 in /usr/local/lib/python3.11/dist-packages (from datasets) (0.70.15)\n",
            "Collecting fsspec<=2025.3.0,>=2023.1.0 (from fsspec[http]<=2025.3.0,>=2023.1.0->datasets)\n",
            "  Downloading fsspec-2025.3.0-py3-none-any.whl.metadata (11 kB)\n",
            "Requirement already satisfied: huggingface-hub>=0.24.0 in /usr/local/lib/python3.11/dist-packages (from datasets) (0.33.1)\n",
            "Requirement already satisfied: packaging in /usr/local/lib/python3.11/dist-packages (from datasets) (24.2)\n",
            "Requirement already satisfied: pyyaml>=5.1 in /usr/local/lib/python3.11/dist-packages (from datasets) (6.0.2)\n",
            "Requirement already satisfied: aiohttp!=4.0.0a0,!=4.0.0a1 in /usr/local/lib/python3.11/dist-packages (from fsspec[http]<=2025.3.0,>=2023.1.0->datasets) (3.11.15)\n",
            "Requirement already satisfied: typing-extensions>=3.7.4.3 in /usr/local/lib/python3.11/dist-packages (from huggingface-hub>=0.24.0->datasets) (4.14.0)\n",
            "Requirement already satisfied: hf-xet<2.0.0,>=1.1.2 in /usr/local/lib/python3.11/dist-packages (from huggingface-hub>=0.24.0->datasets) (1.1.5)\n",
            "Requirement already satisfied: charset-normalizer<4,>=2 in /usr/local/lib/python3.11/dist-packages (from requests>=2.32.2->datasets) (3.4.2)\n",
            "Requirement already satisfied: idna<4,>=2.5 in /usr/local/lib/python3.11/dist-packages (from requests>=2.32.2->datasets) (3.10)\n",
            "Requirement already satisfied: urllib3<3,>=1.21.1 in /usr/local/lib/python3.11/dist-packages (from requests>=2.32.2->datasets) (2.4.0)\n",
            "Requirement already satisfied: certifi>=2017.4.17 in /usr/local/lib/python3.11/dist-packages (from requests>=2.32.2->datasets) (2025.6.15)\n",
            "Requirement already satisfied: python-dateutil>=2.8.2 in /usr/local/lib/python3.11/dist-packages (from pandas->datasets) (2.9.0.post0)\n",
            "Requirement already satisfied: pytz>=2020.1 in /usr/local/lib/python3.11/dist-packages (from pandas->datasets) (2025.2)\n",
            "Requirement already satisfied: tzdata>=2022.7 in /usr/local/lib/python3.11/dist-packages (from pandas->datasets) (2025.2)\n",
            "Requirement already satisfied: aiohappyeyeballs>=2.3.0 in /usr/local/lib/python3.11/dist-packages (from aiohttp!=4.0.0a0,!=4.0.0a1->fsspec[http]<=2025.3.0,>=2023.1.0->datasets) (2.6.1)\n",
            "Requirement already satisfied: aiosignal>=1.1.2 in /usr/local/lib/python3.11/dist-packages (from aiohttp!=4.0.0a0,!=4.0.0a1->fsspec[http]<=2025.3.0,>=2023.1.0->datasets) (1.3.2)\n",
            "Requirement already satisfied: attrs>=17.3.0 in /usr/local/lib/python3.11/dist-packages (from aiohttp!=4.0.0a0,!=4.0.0a1->fsspec[http]<=2025.3.0,>=2023.1.0->datasets) (25.3.0)\n",
            "Requirement already satisfied: frozenlist>=1.1.1 in /usr/local/lib/python3.11/dist-packages (from aiohttp!=4.0.0a0,!=4.0.0a1->fsspec[http]<=2025.3.0,>=2023.1.0->datasets) (1.7.0)\n",
            "Requirement already satisfied: multidict<7.0,>=4.5 in /usr/local/lib/python3.11/dist-packages (from aiohttp!=4.0.0a0,!=4.0.0a1->fsspec[http]<=2025.3.0,>=2023.1.0->datasets) (6.6.3)\n",
            "Requirement already satisfied: propcache>=0.2.0 in /usr/local/lib/python3.11/dist-packages (from aiohttp!=4.0.0a0,!=4.0.0a1->fsspec[http]<=2025.3.0,>=2023.1.0->datasets) (0.3.2)\n",
            "Requirement already satisfied: yarl<2.0,>=1.17.0 in /usr/local/lib/python3.11/dist-packages (from aiohttp!=4.0.0a0,!=4.0.0a1->fsspec[http]<=2025.3.0,>=2023.1.0->datasets) (1.20.1)\n",
            "Requirement already satisfied: six>=1.5 in /usr/local/lib/python3.11/dist-packages (from python-dateutil>=2.8.2->pandas->datasets) (1.17.0)\n",
            "Downloading datasets-3.6.0-py3-none-any.whl (491 kB)\n",
            "\u001b[2K   \u001b[90m━━━━━━━━━━━━━━━━━━━━━━━━━━━━━━━━━━━━━━━━\u001b[0m \u001b[32m491.5/491.5 kB\u001b[0m \u001b[31m18.5 MB/s\u001b[0m eta \u001b[36m0:00:00\u001b[0m\n",
            "\u001b[?25hDownloading fsspec-2025.3.0-py3-none-any.whl (193 kB)\n",
            "\u001b[2K   \u001b[90m━━━━━━━━━━━━━━━━━━━━━━━━━━━━━━━━━━━━━━━━\u001b[0m \u001b[32m193.6/193.6 kB\u001b[0m \u001b[31m14.2 MB/s\u001b[0m eta \u001b[36m0:00:00\u001b[0m\n",
            "\u001b[?25hInstalling collected packages: fsspec, datasets\n",
            "  Attempting uninstall: fsspec\n",
            "    Found existing installation: fsspec 2025.3.2\n",
            "    Uninstalling fsspec-2025.3.2:\n",
            "      Successfully uninstalled fsspec-2025.3.2\n",
            "  Attempting uninstall: datasets\n",
            "    Found existing installation: datasets 2.14.4\n",
            "    Uninstalling datasets-2.14.4:\n",
            "      Successfully uninstalled datasets-2.14.4\n",
            "\u001b[31mERROR: pip's dependency resolver does not currently take into account all the packages that are installed. This behaviour is the source of the following dependency conflicts.\n",
            "gcsfs 2025.3.2 requires fsspec==2025.3.2, but you have fsspec 2025.3.0 which is incompatible.\n",
            "torch 2.6.0+cu124 requires nvidia-cudnn-cu12==9.1.0.70; platform_system == \"Linux\" and platform_machine == \"x86_64\", but you have nvidia-cudnn-cu12 9.3.0.75 which is incompatible.\n",
            "torch 2.6.0+cu124 requires nvidia-cusolver-cu12==11.6.1.9; platform_system == \"Linux\" and platform_machine == \"x86_64\", but you have nvidia-cusolver-cu12 11.6.3.83 which is incompatible.\u001b[0m\u001b[31m\n",
            "\u001b[0mSuccessfully installed datasets-3.6.0 fsspec-2025.3.0\n"
          ]
        }
      ],
      "source": [
        "pip install -U datasets"
      ]
    },
    {
      "cell_type": "code",
      "execution_count": null,
      "metadata": {
        "colab": {
          "base_uri": "https://localhost:8080/",
          "height": 543,
          "referenced_widgets": [
            "d38e4ba1bd4d4cddb70f1364422a3b62",
            "dfe4bb2a31044746bbb256c33d27d039",
            "a52dbcf0afee4a649f91ea0127bce33b",
            "c35119bea76e4bb0b27e473fec03e636",
            "7bcb261ed9064f3ea88167c67ec02274",
            "f8a3c0ce72f04823984bd98ec65ab174",
            "01689be518ce45da8ce499a6f29f13b6",
            "f2bd998850854acea090accd7d29aca7",
            "f81ae4df86cd42c5ab6224d8f5ac17df",
            "ce2d950e2f4946c79b9546dc784db31e",
            "21490d6510194b76b9a567f328572c01",
            "a06d39bc84844d4f82233b6048c22ec6",
            "1e2389f679f44ad3b08a401d5a788616",
            "235347bdfe84409894faf94cc16100e7",
            "a018894176aa4699912dbdaa13511121",
            "ff42a643d0644b3ab6be87d94e38f50d",
            "3bbff08944fc4748905b8251e6f62ba0",
            "ca4e43e1b183451c875d1971fe3e7225",
            "2f706edc66f646869aa802cae792b4ac",
            "6a5a4afcc68749feae8eca7c3e7b4955",
            "e798ebb8f9b64f41ad54de1ee9ab63c7",
            "78b9a4930606460b92f65f06d983b8be",
            "2da11e21562e4b56b112ec9d47abba53",
            "ff92dfc784a5454a9ef535b0ccf0f616",
            "9d4498c34ef24568971925e129789247",
            "518690a3e2314d4c8523158136d555e5",
            "d31eb3a2e4ee414abb585e33248d4f8b",
            "4ad519b2ffd94cf4a4581cc31014de3f",
            "3e428a89762c452da6223f637674d9d9",
            "81f96d85678b4440860349c9fe67b3e9",
            "a08a1db9d986456baa3241ad3c911133",
            "b9a37932555245139517b52b73261b5d",
            "b7d6bf134bba4c70aae64e7f5b5393de",
            "d4a87d64277648189b6f95e51c976342",
            "7848fe9ea6074116a30a5b572378258e",
            "03e412bc17244512a89b4a15ca58e757",
            "214168f43ab8403a845d9f9854f34c15",
            "f93ff29c859449579aac150128ef6bb4",
            "00a3bcc49c6a4b3d92c084298eabc810",
            "c834085444564398bc4aab59b243a1fe",
            "352ffd4d712c4da2becad67a04f57312",
            "e8afd81b61774b019ffca4fbf3cbbd4d",
            "0ce3e9b4093244f6b4626244a4b2ff2c",
            "eea9c45e50af462897921c9fc64953b6",
            "9a7a688a2898483781c065c896652907",
            "bb1b86f1ad314de1b22a95196391c01f",
            "1246c2291d454965b317195c7e3965ed",
            "d1395c1cb6d540d681136fc13b16e139",
            "70a473b785ed4ec09a8ce9b97760cf0c",
            "6f7e288f05c749ce8b779d41778a82b6",
            "81c7838d76ef4e21b1d15b65e3a7ba94",
            "d90eda3be10349128c4f0e38be39415e",
            "2f51a22de6f249c1943493e533d6e535",
            "024c2156da9243b88feb4e898595d6c9",
            "fe752bbd418043798273a6877b4ef6d9",
            "2c352303f0f7437f8a76dd65e49510bb",
            "32fd1535b58f4006b0092b4d4244f1f3",
            "4636f3e1d3ab4891947eb9636c88668e",
            "a7a786ebe3564126b1d2279bb6d9879f",
            "6593cddc590e4548a6225103cb354ca1",
            "b9a0a43b3ba14e289c66ef04805146ef",
            "02fdaf15e38e4b1ca29a78f0a3867fdc",
            "c5226cc374014a33ad92ecca32ccec78",
            "adb9628663f5464e99390019bf513489",
            "04bc88a9e826497fa2397a4a626b7d4d",
            "411b16ba352441d495295f7829003db5",
            "11ae5888400745eba8b3365cc8d2042b",
            "2976a1cf64424d5b953c3ca726ed5ab8",
            "c06e6343379b4403a99bd606fac47eee",
            "8cdb020acfaa45799f51383414152a30",
            "0d12c1b0839c4fe781d1c752efd2ed62",
            "b1fe117747bf449a9f8ffdca022ce846",
            "473c5c3be192412795cec98f758392e5",
            "5290b365891d49aba2a7e8595d1c4824",
            "af82ca7abdf64dd0a36d715b7d6cf9fb",
            "59edd73b07e74ea4b6840dd9053061f6",
            "a1b089223dbf4c2c979dd84cfdc90d76",
            "3aa7416615b04a2ea3c7dd875e105519",
            "08b08fe0a9844c2aae391f1302f65745",
            "0a033fb2af0f455782d8bf78661b834a",
            "43bd5d5003444dab9ac4a741c9813d6c",
            "58092c68d50b41b18efa4d3c7604afc7",
            "a5e9d1e06530408a910333457e39c94a",
            "1a41a58171da414d92d48443bb791754",
            "3996cd0a67284441bcc16be4f85a5697",
            "960d8147f8fb4621b467fcd59e5297a8",
            "70e9da71dcac4dadbfebaf632d9fb575",
            "4b47d4b578464a12ada10c89704b48f6",
            "b497eaeb60ef4596a9f7499db216cc9d",
            "1db420c926464c04b5f27272dcc183d4",
            "24aa53d6d04145ae92e2373fc001f814",
            "02b911bd2b9a451bbfa4cefb9c601eff",
            "cd5bad9fa35b4f6789f30943cfc3ea06",
            "72df8dc302a94642a34dc1fe4bb99a44",
            "1dc60b264da446dd9d04769b346d53d9",
            "a3680bd45f784930b398bbb74826a3da",
            "66e6550bae364f9ca1c2f4931ec649ab",
            "a77eba670f654a54b524a2104035c290",
            "05dd086b6d3a4e75a8ee758e5317b20f",
            "d0431ad78b7e4a648ba03512612eb867",
            "c70b974cc4954d58935acd5363d9a0c6",
            "598d96edc5fe4deba7cee208fd2cae40",
            "1b37da7b1f7d49598c234afe04a34018",
            "526a79fd1e0b4a949d1e1a727f7e3d1e",
            "d3043c38d7e94291874d74348e45a375",
            "4664ff54ade3442d860ec297ca13e409",
            "6cbfedc58aa84b0ab0300676306d7b73",
            "5039768b34d34526af3d4fd0613d5152",
            "e31c6dd868534149a4af99f7d5771191",
            "9ad57bdda4094f009805948276ff9f9b",
            "a4385444c2234c48b92d4b27dd7440c2",
            "e8099125566e4dd199dcf24d59ddc36e",
            "76bfbde89ae94af680f8c40da4d9a728",
            "daf20b1e9eae4272954bc4f0c4f73b89",
            "ef64385e5fe9434d8096270de0acf8d9",
            "cec9c4dc29ad429c89c4218578e9453a",
            "efe21a49364349f48d382e32b43b9161",
            "2825b609a5d44f5391d453d86f01d6b8",
            "ed0b66eca077452794db6008c168c2b8",
            "44aa364cbc214a1aab16fb3f851c6dbb",
            "a150cef0ad2e4a7da263257d74f13eb4"
          ]
        },
        "id": "n9OnRe0lu02e",
        "outputId": "c666bea6-aeec-4730-8f73-3c937d05ba8d"
      },
      "outputs": [
        {
          "output_type": "stream",
          "name": "stderr",
          "text": [
            "/usr/local/lib/python3.11/dist-packages/huggingface_hub/utils/_auth.py:94: UserWarning: \n",
            "The secret `HF_TOKEN` does not exist in your Colab secrets.\n",
            "To authenticate with the Hugging Face Hub, create a token in your settings tab (https://huggingface.co/settings/tokens), set it as secret in your Google Colab and restart your session.\n",
            "You will be able to reuse this secret in all of your notebooks.\n",
            "Please note that authentication is recommended but still optional to access public models or datasets.\n",
            "  warnings.warn(\n"
          ]
        },
        {
          "output_type": "display_data",
          "data": {
            "text/plain": [
              "README.md: 0.00B [00:00, ?B/s]"
            ],
            "application/vnd.jupyter.widget-view+json": {
              "version_major": 2,
              "version_minor": 0,
              "model_id": "d38e4ba1bd4d4cddb70f1364422a3b62"
            }
          },
          "metadata": {}
        },
        {
          "output_type": "display_data",
          "data": {
            "text/plain": [
              "multi_news.py: 0.00B [00:00, ?B/s]"
            ],
            "application/vnd.jupyter.widget-view+json": {
              "version_major": 2,
              "version_minor": 0,
              "model_id": "a06d39bc84844d4f82233b6048c22ec6"
            }
          },
          "metadata": {}
        },
        {
          "name": "stdout",
          "output_type": "stream",
          "text": [
            "The repository for multi_news contains custom code which must be executed to correctly load the dataset. You can inspect the repository content at https://hf.co/datasets/multi_news.\n",
            "You can avoid this prompt in future by passing the argument `trust_remote_code=True`.\n",
            "\n",
            "Do you wish to run the custom code? [y/N] y\n"
          ]
        },
        {
          "output_type": "display_data",
          "data": {
            "text/plain": [
              "train.src.cleaned:   0%|          | 0.00/548M [00:00<?, ?B/s]"
            ],
            "application/vnd.jupyter.widget-view+json": {
              "version_major": 2,
              "version_minor": 0,
              "model_id": "2da11e21562e4b56b112ec9d47abba53"
            }
          },
          "metadata": {}
        },
        {
          "output_type": "display_data",
          "data": {
            "text/plain": [
              "train.tgt:   0%|          | 0.00/58.8M [00:00<?, ?B/s]"
            ],
            "application/vnd.jupyter.widget-view+json": {
              "version_major": 2,
              "version_minor": 0,
              "model_id": "d4a87d64277648189b6f95e51c976342"
            }
          },
          "metadata": {}
        },
        {
          "output_type": "display_data",
          "data": {
            "text/plain": [
              "val.src.cleaned:   0%|          | 0.00/66.9M [00:00<?, ?B/s]"
            ],
            "application/vnd.jupyter.widget-view+json": {
              "version_major": 2,
              "version_minor": 0,
              "model_id": "9a7a688a2898483781c065c896652907"
            }
          },
          "metadata": {}
        },
        {
          "output_type": "display_data",
          "data": {
            "text/plain": [
              "val.tgt:   0%|          | 0.00/7.30M [00:00<?, ?B/s]"
            ],
            "application/vnd.jupyter.widget-view+json": {
              "version_major": 2,
              "version_minor": 0,
              "model_id": "2c352303f0f7437f8a76dd65e49510bb"
            }
          },
          "metadata": {}
        },
        {
          "output_type": "display_data",
          "data": {
            "text/plain": [
              "test.src.cleaned:   0%|          | 0.00/69.0M [00:00<?, ?B/s]"
            ],
            "application/vnd.jupyter.widget-view+json": {
              "version_major": 2,
              "version_minor": 0,
              "model_id": "11ae5888400745eba8b3365cc8d2042b"
            }
          },
          "metadata": {}
        },
        {
          "output_type": "display_data",
          "data": {
            "text/plain": [
              "test.tgt:   0%|          | 0.00/7.31M [00:00<?, ?B/s]"
            ],
            "application/vnd.jupyter.widget-view+json": {
              "version_major": 2,
              "version_minor": 0,
              "model_id": "3aa7416615b04a2ea3c7dd875e105519"
            }
          },
          "metadata": {}
        },
        {
          "output_type": "display_data",
          "data": {
            "text/plain": [
              "Generating train split:   0%|          | 0/44972 [00:00<?, ? examples/s]"
            ],
            "application/vnd.jupyter.widget-view+json": {
              "version_major": 2,
              "version_minor": 0,
              "model_id": "b497eaeb60ef4596a9f7499db216cc9d"
            }
          },
          "metadata": {}
        },
        {
          "output_type": "display_data",
          "data": {
            "text/plain": [
              "Generating validation split:   0%|          | 0/5622 [00:00<?, ? examples/s]"
            ],
            "application/vnd.jupyter.widget-view+json": {
              "version_major": 2,
              "version_minor": 0,
              "model_id": "d0431ad78b7e4a648ba03512612eb867"
            }
          },
          "metadata": {}
        },
        {
          "output_type": "display_data",
          "data": {
            "text/plain": [
              "Generating test split:   0%|          | 0/5622 [00:00<?, ? examples/s]"
            ],
            "application/vnd.jupyter.widget-view+json": {
              "version_major": 2,
              "version_minor": 0,
              "model_id": "a4385444c2234c48b92d4b27dd7440c2"
            }
          },
          "metadata": {}
        }
      ],
      "source": [
        "from datasets import load_dataset\n",
        "\n",
        "multinews=load_dataset(\"multi_news\", split='test')"
      ]
    },
    {
      "cell_type": "code",
      "execution_count": null,
      "metadata": {
        "colab": {
          "base_uri": "https://localhost:8080/"
        },
        "id": "_j4gbaUV1Mod",
        "outputId": "8c8d4840-8805-4897-f0dc-68d1ba22f60d"
      },
      "outputs": [
        {
          "name": "stdout",
          "output_type": "stream",
          "text": [
            "Cloning into 'multi_news'...\n",
            "remote: Enumerating objects: 82, done.\u001b[K\n",
            "remote: Total 82 (delta 0), reused 0 (delta 0), pack-reused 82 (from 1)\u001b[K\n",
            "Unpacking objects: 100% (82/82), 18.49 KiB | 901.00 KiB/s, done.\n",
            "Filtering content: 100% (6/6), 721.73 MiB | 22.17 MiB/s, done.\n"
          ]
        }
      ],
      "source": [
        "!git clone https://huggingface.co/datasets/alexfabbri/multi_news\n"
      ]
    },
    {
      "cell_type": "code",
      "execution_count": null,
      "metadata": {
        "colab": {
          "base_uri": "https://localhost:8080/"
        },
        "id": "Kbn-kXPp1MsC",
        "outputId": "b0996639-3630-424a-b656-7dc009b12261"
      },
      "outputs": [
        {
          "data": {
            "text/plain": [
              "['val.tgt',\n",
              " 'test.src.cleaned',\n",
              " 'train.tgt',\n",
              " 'test.tgt',\n",
              " 'val.src.cleaned',\n",
              " 'train.src.cleaned']"
            ]
          },
          "execution_count": 7,
          "metadata": {},
          "output_type": "execute_result"
        }
      ],
      "source": [
        "import os\n",
        "\n",
        "os.listdir(\"/content/multi_news\")\n",
        "\n",
        "os.listdir(\"/content/multi_news/data\")\n",
        "\n"
      ]
    },
    {
      "cell_type": "code",
      "execution_count": null,
      "metadata": {
        "colab": {
          "base_uri": "https://localhost:8080/",
          "height": 113,
          "referenced_widgets": [
            "bcc7ae71dfa846ad9f0507119e3df17b",
            "972076c9f6df410b82f541a009c86487",
            "d9e98f6dcb494c46b986bd3145be0baf",
            "c3901cecbf8d45bda2e4824bdfd9dda3",
            "d4a51ed3a4d54c18b744002dd4a47a65",
            "91a4c0d307234f1eb3a0c81d820d21f6",
            "d0c0442b72894559b640b8480f987f9e",
            "5806453701854d599c3f9fca7773606c",
            "a32a0e9bd63c4ff19e8d853b17f87b61",
            "6d0e171bafc042628f6f459aee03c632",
            "84d3f9de4e634121aa0c793b9d4bd65e",
            "57ab3d343abe4672831db36eb74fc0c7",
            "2d3408b26a03481c898ecc91590ccc73",
            "6460f756018449d6a8c17ebe7430610d",
            "c12a0d2346cc407cba8c9c21cc7b8c83",
            "f5c137f5a618479f9a0633b950074a2f",
            "c0bd5e89d616460c9a0731f0f3faacac",
            "3bb8f5ac66ce454e9a77bdb82d9fe994",
            "691b5b8d1a72454ea4e1ec939e10c780",
            "aa59287d825040d59c8c7281ac1af03f",
            "4dc69229c1a340a4a2165fd235b3c339",
            "f5d6f00d39df47c09b87159c590b53ad",
            "ab84323fb210481f8d68f536cdae7e2f",
            "daee8eee116340a395303783e6c267a8",
            "8859345604cf41328254a969596c9716",
            "ec3ad9c258cd440ab0226f5712321e53",
            "806e5a32fe4b496fb937e1afabd8c40e",
            "83e5dbd53b674e9ebd37b0ac0f3ad735",
            "fd43278d18af461f8c5284924bd0ea3b",
            "2685a9847470420e9cb4e6086df71d55",
            "a9d526ac665f4400abf6992de2c96528",
            "789c2fc836a9411984ada11a1bff6873",
            "8caa95e3a2f04746b608d1e41ebfff37"
          ]
        },
        "id": "Zk5Hzg2Fvke4",
        "outputId": "4c84a2ad-be4c-46e9-b3e4-0085c77fdee8"
      },
      "outputs": [
        {
          "output_type": "display_data",
          "data": {
            "text/plain": [
              "tokenizer_config.json:   0%|          | 0.00/2.32k [00:00<?, ?B/s]"
            ],
            "application/vnd.jupyter.widget-view+json": {
              "version_major": 2,
              "version_minor": 0,
              "model_id": "bcc7ae71dfa846ad9f0507119e3df17b"
            }
          },
          "metadata": {}
        },
        {
          "output_type": "display_data",
          "data": {
            "text/plain": [
              "spiece.model:   0%|          | 0.00/792k [00:00<?, ?B/s]"
            ],
            "application/vnd.jupyter.widget-view+json": {
              "version_major": 2,
              "version_minor": 0,
              "model_id": "57ab3d343abe4672831db36eb74fc0c7"
            }
          },
          "metadata": {}
        },
        {
          "output_type": "display_data",
          "data": {
            "text/plain": [
              "tokenizer.json:   0%|          | 0.00/1.39M [00:00<?, ?B/s]"
            ],
            "application/vnd.jupyter.widget-view+json": {
              "version_major": 2,
              "version_minor": 0,
              "model_id": "ab84323fb210481f8d68f536cdae7e2f"
            }
          },
          "metadata": {}
        }
      ],
      "source": [
        " from transformers import AutoTokenizer\n",
        " tokenizer=AutoTokenizer.from_pretrained('t5-small')"
      ]
    },
    {
      "cell_type": "code",
      "execution_count": null,
      "metadata": {
        "id": "kdM102COvkl2"
      },
      "outputs": [],
      "source": [
        "multi_news=multinews.train_test_split(test_size=.2)"
      ]
    },
    {
      "cell_type": "code",
      "execution_count": null,
      "metadata": {
        "id": "qt9RcIo35_Cp"
      },
      "outputs": [],
      "source": [
        "prefix='summarize'\n",
        "\n",
        "\n",
        "def process_function(examples):\n",
        "  inputs= [prefix +doc for doc in examples['document']]\n",
        "  model_input=tokenizer(inputs, max_length=1024, truncation=True)\n",
        "  labels=tokenizer(text=examples['summary'],max_length=128, truncation=True)\n",
        "  model_input['labels']=labels['input_ids']\n",
        "\n",
        "  return model_input\n"
      ]
    },
    {
      "cell_type": "code",
      "execution_count": null,
      "metadata": {
        "id": "Ri7HD8IT9qI6"
      },
      "outputs": [],
      "source": []
    },
    {
      "cell_type": "markdown",
      "metadata": {
        "id": "dAVPQuLH73z_"
      },
      "source": []
    },
    {
      "cell_type": "code",
      "execution_count": null,
      "metadata": {
        "colab": {
          "base_uri": "https://localhost:8080/",
          "height": 81,
          "referenced_widgets": [
            "4973ab757c5b40ecbed09e98b281bf63",
            "14bed50ff63c4c718fb356fb0887b496",
            "ef9c9b4a8af845eeb3113b1a24e15c38",
            "625f1e5435874de8b49a21ca802edb9f",
            "07e94ebcf4d34cfd9db438f38b59594e",
            "6c7efe50ffcf46c7bf62aed819c9edef",
            "06a02ce07d854444891a040838d50d5c",
            "6cbe27f99ca84676b3e3e000a04e76c5",
            "4a7be950a5374b9f91410dd51840914b",
            "09a5f733c10c4c56b9f8536f175e90b8",
            "4be77a1dd9724e67a17ef6017b4c2145",
            "3cf87c5eaeb2471a80d10812ffb0f33c",
            "ec2ffe5c60e54677b843552a414dfddc",
            "1a99194f47fc41ba82e4cf49f3e95f9c",
            "928b6ba3d10d45f68ee656efd7d24001",
            "ad68177e9d274fc3bbd5d0268ab40e56",
            "500f22d64c2446578dbdf1bec81ebcdd",
            "f8f77326906b4e64ae36dea3f29e3245",
            "e4557c4efdf746429b3c3965adeb2e2a",
            "97faae9ffe3d4dd093ce5b8019b68da6",
            "8446c577cdf540cb8adbba27ce07b039",
            "c10b193345d84cfe8e7cdbded2f794de"
          ]
        },
        "id": "byYXLeSz5_Fe",
        "outputId": "f404a5ec-81b2-4652-f6f2-05d5b27bf208"
      },
      "outputs": [
        {
          "output_type": "display_data",
          "data": {
            "text/plain": [
              "Map:   0%|          | 0/4497 [00:00<?, ? examples/s]"
            ],
            "application/vnd.jupyter.widget-view+json": {
              "version_major": 2,
              "version_minor": 0,
              "model_id": "4973ab757c5b40ecbed09e98b281bf63"
            }
          },
          "metadata": {}
        },
        {
          "output_type": "display_data",
          "data": {
            "text/plain": [
              "Map:   0%|          | 0/1125 [00:00<?, ? examples/s]"
            ],
            "application/vnd.jupyter.widget-view+json": {
              "version_major": 2,
              "version_minor": 0,
              "model_id": "3cf87c5eaeb2471a80d10812ffb0f33c"
            }
          },
          "metadata": {}
        }
      ],
      "source": [
        "tokenized_multi_news=multi_news.map(process_function, batched=True)"
      ]
    },
    {
      "cell_type": "code",
      "execution_count": null,
      "metadata": {
        "id": "8rp9KzyW9qGv"
      },
      "outputs": [],
      "source": []
    },
    {
      "cell_type": "code",
      "execution_count": null,
      "metadata": {
        "colab": {
          "base_uri": "https://localhost:8080/",
          "height": 113,
          "referenced_widgets": [
            "17d480f87c1c4b21bc5807f2128b62c8",
            "537e5214bb424a8f9e9d75b8d403c171",
            "5c9923d2866044b5b5d88f9e464c7634",
            "cacfb55509164e03bbf2b7046ec9fe36",
            "2b1d839b8ec94ebf81c7b0f54eeae786",
            "d3d173fb31014a85a28346f10b3ce565",
            "f5143ac5e78c4cd0a36bc1cdfc02962b",
            "b3e7cdeb8daf46a7a3c92267629bd5e9",
            "54ee723b11984126ad814f636cf5ed9e",
            "9cd358c64cb240029458691e2f43b938",
            "14bccd6e3689470382fc9c835c68222d",
            "c944bf97b5ac49bab6405deccaaed42a",
            "a407082a25bb45a3bd9dd149272c47fa",
            "c833fb1ba42144f8a4008a152ff9b1d6",
            "2b1c7173970144e1a860b80988c1c282",
            "131e6b0255274c9590010bee6e6f87af",
            "85fe314139544fada1576dcfee4c64af",
            "632244d01a3d43a1b4d9edb5187bb681",
            "5b2c7ce6575d40e7a112a474957a2bdd",
            "2cb5ca8f709f4c5580b2f022b854abcc",
            "fcaaa918215a4d4fa322412dc8e49c82",
            "9b37a4602d1d45e3bfe3df3771776a75",
            "74a40f9a39e84ea7850413a02439f844",
            "c27bbb2d61ee42ba8149893770e4e98f",
            "b54e6fbcabce434d90d6c6b26229066d",
            "5b66519110cc4eef8cda786f2f2582ee",
            "0ce12ecf18d945078cd731f7e11dd52b",
            "3078f972a50349518290ad6b4ae686dd",
            "0b516cb783ee459398a452fd9d3677b3",
            "ac14ed9ae369441ea5b49598c07b7564",
            "c6621bdcb41f45c1930d415efb3be205",
            "5c00aa66a8c74db68be16e724685b629",
            "a20dbd5027dc435cb81ed977010bd312"
          ]
        },
        "id": "UxUpX3SS8XMI",
        "outputId": "b4a9143c-efd6-4363-e593-848d67d33d56"
      },
      "outputs": [
        {
          "output_type": "display_data",
          "data": {
            "text/plain": [
              "config.json:   0%|          | 0.00/1.21k [00:00<?, ?B/s]"
            ],
            "application/vnd.jupyter.widget-view+json": {
              "version_major": 2,
              "version_minor": 0,
              "model_id": "17d480f87c1c4b21bc5807f2128b62c8"
            }
          },
          "metadata": {}
        },
        {
          "output_type": "display_data",
          "data": {
            "text/plain": [
              "model.safetensors:   0%|          | 0.00/242M [00:00<?, ?B/s]"
            ],
            "application/vnd.jupyter.widget-view+json": {
              "version_major": 2,
              "version_minor": 0,
              "model_id": "c944bf97b5ac49bab6405deccaaed42a"
            }
          },
          "metadata": {}
        },
        {
          "output_type": "display_data",
          "data": {
            "text/plain": [
              "generation_config.json:   0%|          | 0.00/147 [00:00<?, ?B/s]"
            ],
            "application/vnd.jupyter.widget-view+json": {
              "version_major": 2,
              "version_minor": 0,
              "model_id": "74a40f9a39e84ea7850413a02439f844"
            }
          },
          "metadata": {}
        }
      ],
      "source": [
        "from transformers import DataCollatorForSeq2Seq , AutoModelForSeq2SeqLM, Seq2SeqTrainingArguments, Seq2SeqTrainer\n",
        "\n",
        "data_collator=DataCollatorForSeq2Seq(tokenizer=tokenizer, model='t5-small')\n",
        "model=AutoModelForSeq2SeqLM.from_pretrained('t5-small')"
      ]
    },
    {
      "cell_type": "code",
      "execution_count": null,
      "metadata": {
        "id": "Omk57rH75_JB"
      },
      "outputs": [],
      "source": [
        "from transformers import DataCollatorForSeq2Seq , AutoModelForSeq2SeqLM, Seq2SeqTrainingArguments, Seq2SeqTrainer\n",
        "\n",
        "training_args=Seq2SeqTrainingArguments(\n",
        "    output_dir=\"./results\",\n",
        "    eval_strategy='epoch',\n",
        "    learning_rate=2e-5,\n",
        "    per_device_train_batch_size=10,\n",
        "    per_device_eval_batch_size=10,\n",
        "    weight_decay=.01,\n",
        "    save_total_limit=3,\n",
        "    num_train_epochs=10,\n",
        "    fp16=True,\n",
        "    report_to=None,\n",
        "\n",
        ")"
      ]
    },
    {
      "cell_type": "code",
      "execution_count": null,
      "metadata": {
        "colab": {
          "base_uri": "https://localhost:8080/"
        },
        "id": "tf2-1Gtq-O-9",
        "outputId": "c72ca7f3-b5ed-4670-c588-3de520067f9c"
      },
      "outputs": [
        {
          "name": "stderr",
          "output_type": "stream",
          "text": [
            "/tmp/ipython-input-13-759856296.py:1: FutureWarning: `tokenizer` is deprecated and will be removed in version 5.0.0 for `Seq2SeqTrainer.__init__`. Use `processing_class` instead.\n",
            "  trainer = Seq2SeqTrainer(\n"
          ]
        }
      ],
      "source": [
        "trainer = Seq2SeqTrainer(\n",
        "    model=model,\n",
        "    args=training_args,\n",
        "    train_dataset=tokenized_multi_news[\"train\"],\n",
        "    eval_dataset=tokenized_multi_news[\"test\"],\n",
        "    data_collator=data_collator,\n",
        "    tokenizer=tokenizer,\n",
        ")"
      ]
    },
    {
      "cell_type": "markdown",
      "metadata": {
        "id": "-bSv_A6s_0pQ"
      },
      "source": []
    },
    {
      "cell_type": "code",
      "execution_count": null,
      "metadata": {
        "id": "QeZTKHO_AkUP"
      },
      "outputs": [],
      "source": [
        "import os\n",
        "os.environ[\"WANDB_DISABLED\"] = \"true\""
      ]
    },
    {
      "cell_type": "code",
      "execution_count": null,
      "metadata": {
        "id": "E5S7UCdHB0Rj"
      },
      "outputs": [],
      "source": []
    },
    {
      "cell_type": "code",
      "execution_count": null,
      "metadata": {
        "colab": {
          "base_uri": "https://localhost:8080/",
          "height": 704
        },
        "collapsed": true,
        "id": "a-6MYQbrAmr7",
        "outputId": "8111dbe8-3582-460f-fbae-da5b49319646"
      },
      "outputs": [
        {
          "name": "stderr",
          "output_type": "stream",
          "text": [
            "\u001b[34m\u001b[1mwandb\u001b[0m: \u001b[33mWARNING\u001b[0m The `run_name` is currently set to the same value as `TrainingArguments.output_dir`. If this was not intended, please specify a different run name by setting the `TrainingArguments.run_name` parameter.\n"
          ]
        },
        {
          "data": {
            "application/javascript": [
              "\n",
              "        window._wandbApiKey = new Promise((resolve, reject) => {\n",
              "            function loadScript(url) {\n",
              "            return new Promise(function(resolve, reject) {\n",
              "                let newScript = document.createElement(\"script\");\n",
              "                newScript.onerror = reject;\n",
              "                newScript.onload = resolve;\n",
              "                document.body.appendChild(newScript);\n",
              "                newScript.src = url;\n",
              "            });\n",
              "            }\n",
              "            loadScript(\"https://cdn.jsdelivr.net/npm/postmate/build/postmate.min.js\").then(() => {\n",
              "            const iframe = document.createElement('iframe')\n",
              "            iframe.style.cssText = \"width:0;height:0;border:none\"\n",
              "            document.body.appendChild(iframe)\n",
              "            const handshake = new Postmate({\n",
              "                container: iframe,\n",
              "                url: 'https://wandb.ai/authorize'\n",
              "            });\n",
              "            const timeout = setTimeout(() => reject(\"Couldn't auto authenticate\"), 5000)\n",
              "            handshake.then(function(child) {\n",
              "                child.on('authorize', data => {\n",
              "                    clearTimeout(timeout)\n",
              "                    resolve(data)\n",
              "                });\n",
              "            });\n",
              "            })\n",
              "        });\n",
              "    "
            ],
            "text/plain": [
              "<IPython.core.display.Javascript object>"
            ]
          },
          "metadata": {},
          "output_type": "display_data"
        },
        {
          "name": "stderr",
          "output_type": "stream",
          "text": [
            "\u001b[34m\u001b[1mwandb\u001b[0m: \u001b[33mWARNING\u001b[0m If you're specifying your api key in code, ensure this code is not shared publicly.\n",
            "\u001b[34m\u001b[1mwandb\u001b[0m: \u001b[33mWARNING\u001b[0m Consider setting the WANDB_API_KEY environment variable, or running `wandb login` from the command line.\n",
            "\u001b[34m\u001b[1mwandb\u001b[0m: No netrc file found, creating one.\n",
            "\u001b[34m\u001b[1mwandb\u001b[0m: Appending key for api.wandb.ai to your netrc file: /root/.netrc\n",
            "\u001b[34m\u001b[1mwandb\u001b[0m: Currently logged in as: \u001b[33mmiltonkibottle555\u001b[0m (\u001b[33mmiltonkibottle555-thapar-university\u001b[0m) to \u001b[32mhttps://api.wandb.ai\u001b[0m. Use \u001b[1m`wandb login --relogin`\u001b[0m to force relogin\n"
          ]
        },
        {
          "data": {
            "text/html": [
              "Tracking run with wandb version 0.20.1"
            ],
            "text/plain": [
              "<IPython.core.display.HTML object>"
            ]
          },
          "metadata": {},
          "output_type": "display_data"
        },
        {
          "data": {
            "text/html": [
              "Run data is saved locally in <code>/content/wandb/run-20250626_152453-rgix1bbv</code>"
            ],
            "text/plain": [
              "<IPython.core.display.HTML object>"
            ]
          },
          "metadata": {},
          "output_type": "display_data"
        },
        {
          "data": {
            "text/html": [
              "Syncing run <strong><a href='https://wandb.ai/miltonkibottle555-thapar-university/huggingface/runs/rgix1bbv' target=\"_blank\">./results</a></strong> to <a href='https://wandb.ai/miltonkibottle555-thapar-university/huggingface' target=\"_blank\">Weights & Biases</a> (<a href='https://wandb.me/developer-guide' target=\"_blank\">docs</a>)<br>"
            ],
            "text/plain": [
              "<IPython.core.display.HTML object>"
            ]
          },
          "metadata": {},
          "output_type": "display_data"
        },
        {
          "data": {
            "text/html": [
              " View project at <a href='https://wandb.ai/miltonkibottle555-thapar-university/huggingface' target=\"_blank\">https://wandb.ai/miltonkibottle555-thapar-university/huggingface</a>"
            ],
            "text/plain": [
              "<IPython.core.display.HTML object>"
            ]
          },
          "metadata": {},
          "output_type": "display_data"
        },
        {
          "data": {
            "text/html": [
              " View run at <a href='https://wandb.ai/miltonkibottle555-thapar-university/huggingface/runs/rgix1bbv' target=\"_blank\">https://wandb.ai/miltonkibottle555-thapar-university/huggingface/runs/rgix1bbv</a>"
            ],
            "text/plain": [
              "<IPython.core.display.HTML object>"
            ]
          },
          "metadata": {},
          "output_type": "display_data"
        },
        {
          "name": "stderr",
          "output_type": "stream",
          "text": [
            "Passing a tuple of `past_key_values` is deprecated and will be removed in Transformers v4.48.0. You should pass an instance of `EncoderDecoderCache` instead, e.g. `past_key_values=EncoderDecoderCache.from_legacy_cache(past_key_values)`.\n"
          ]
        },
        {
          "data": {
            "text/html": [
              "\n",
              "    <div>\n",
              "      \n",
              "      <progress value='4500' max='4500' style='width:300px; height:20px; vertical-align: middle;'></progress>\n",
              "      [4500/4500 46:04, Epoch 10/10]\n",
              "    </div>\n",
              "    <table border=\"1\" class=\"dataframe\">\n",
              "  <thead>\n",
              " <tr style=\"text-align: left;\">\n",
              "      <th>Epoch</th>\n",
              "      <th>Training Loss</th>\n",
              "      <th>Validation Loss</th>\n",
              "    </tr>\n",
              "  </thead>\n",
              "  <tbody>\n",
              "    <tr>\n",
              "      <td>1</td>\n",
              "      <td>No log</td>\n",
              "      <td>2.838694</td>\n",
              "    </tr>\n",
              "    <tr>\n",
              "      <td>2</td>\n",
              "      <td>3.266700</td>\n",
              "      <td>2.774015</td>\n",
              "    </tr>\n",
              "    <tr>\n",
              "      <td>3</td>\n",
              "      <td>3.019700</td>\n",
              "      <td>2.744429</td>\n",
              "    </tr>\n",
              "    <tr>\n",
              "      <td>4</td>\n",
              "      <td>2.950400</td>\n",
              "      <td>2.728303</td>\n",
              "    </tr>\n",
              "    <tr>\n",
              "      <td>5</td>\n",
              "      <td>2.929000</td>\n",
              "      <td>2.716066</td>\n",
              "    </tr>\n",
              "    <tr>\n",
              "      <td>6</td>\n",
              "      <td>2.917800</td>\n",
              "      <td>2.709179</td>\n",
              "    </tr>\n",
              "    <tr>\n",
              "      <td>7</td>\n",
              "      <td>2.890600</td>\n",
              "      <td>2.704871</td>\n",
              "    </tr>\n",
              "    <tr>\n",
              "      <td>8</td>\n",
              "      <td>2.890700</td>\n",
              "      <td>2.701037</td>\n",
              "    </tr>\n",
              "    <tr>\n",
              "      <td>9</td>\n",
              "      <td>2.870200</td>\n",
              "      <td>2.698270</td>\n",
              "    </tr>\n",
              "    <tr>\n",
              "      <td>10</td>\n",
              "      <td>2.880000</td>\n",
              "      <td>2.697492</td>\n",
              "    </tr>\n",
              "  </tbody>\n",
              "</table><p>"
            ],
            "text/plain": [
              "<IPython.core.display.HTML object>"
            ]
          },
          "metadata": {},
          "output_type": "display_data"
        },
        {
          "data": {
            "text/plain": [
              "TrainOutput(global_step=4500, training_loss=2.957239474826389, metrics={'train_runtime': 2774.5701, 'train_samples_per_second': 16.208, 'train_steps_per_second': 1.622, 'total_flos': 1.217264162439168e+16, 'train_loss': 2.957239474826389, 'epoch': 10.0})"
            ]
          },
          "execution_count": 14,
          "metadata": {},
          "output_type": "execute_result"
        }
      ],
      "source": [
        "trainer.train()"
      ]
    },
    {
      "cell_type": "code",
      "execution_count": null,
      "metadata": {
        "colab": {
          "background_save": true
        },
        "id": "c4xnsy7NFRVE"
      },
      "outputs": [],
      "source": [
        "test=\"\"\"Gwalior (Hindi: IPA: [ɡʋɑːlɪjəɾ], pronunciationⓘ) is a major city in the central Indian state of Madhya Pradesh; It is known as the Music City of India[7][8] having oldest musical gharana in existence. It is a major sports, cultural, industrial, and political centre in Madhya Pradesh. Gwalior is among the seven cities selected for new startup centres under India's growing innovation ecosystem.[9] On World Cities Day (31 October 2023), UNESCO Director - General Audrey Azoulay announced Gwalior's inclusion among 55 new world creative cities in the UCCN from India.[10] This tag elevates Gwalior's identity internationally, spotlighting it's artists, music traditions and vibrant culture. It lies in northern part of Madhya Pradesh and is one of the Counter-magnet cities. Located 313 kilometres (194 mi) south of New Delhi, the capital city of India and 446 kilometres (277 mi) from Bhopal, the state capital, Gwalior occupies a strategic location in the Gwalior Chambal region of India. The grand historic city and its fortress have been ruled by several Indian kingdoms. From the Alchon Huns in the 5th century AD to Gurjara Pratihara dynasty in the 8th century AD. It was passed on to Kachchhapaghatas in the 10th century AD. Later it fell into the hands of the Delhi Sultanate in the 12th century AD, it was then passed on to the Tomars in the 13th century AD who were the vassal rulers of the Delhi Sultanate.\"\"\""
      ]
    },
    {
      "cell_type": "code",
      "execution_count": null,
      "metadata": {
        "id": "cE0lmL4lFRYk"
      },
      "outputs": [],
      "source": [
        "input_ids=tokenizer(test, max_length=1024,truncation=True,return_tensors='pt').input_ids\n",
        "input_ids=input_ids.to('cuda')"
      ]
    },
    {
      "cell_type": "code",
      "execution_count": null,
      "metadata": {
        "colab": {
          "base_uri": "https://localhost:8080/"
        },
        "id": "rrGYOGIaG8F-",
        "outputId": "50fa13fe-7727-4d28-eef3-c9c71c224188"
      },
      "outputs": [
        {
          "name": "stdout",
          "output_type": "stream",
          "text": [
            "– Hugging Face, Inc. is a French-American company based in New York City that develops computation tools for building applications using machine learning. It is most notable for its transformers library built for natural language processing applications and its platform that allows users to share machine learning models and datasets and showcase their work. The company was founded in 2016 by French entrepreneurs Clément Delangue, Julien Chaumond, and Thomas Wolf in New York City, originally as a company that developed a chatbot app targeted at teenagers. It was named after the U+1F917  HUGGING\n"
          ]
        }
      ],
      "source": [
        "import torch\n",
        "with torch.no_grad():\n",
        "  if model.device.type=='cuda':\n",
        "    output=model.generate(input_ids,max_length=128,num_beams=5 )\n",
        "\n",
        "summary_ids=output[0].tolist()\n",
        "summary=tokenizer.decode(summary_ids, skip_special_tokens= True)\n",
        "print(summary)\n",
        "\n",
        "\n",
        "\n"
      ]
    },
    {
      "cell_type": "code",
      "execution_count": null,
      "metadata": {
        "colab": {
          "base_uri": "https://localhost:8080/",
          "height": 157
        },
        "id": "KHFFByBgJw-5",
        "outputId": "29676457-6a79-429c-90ed-b4ef9be2767e"
      },
      "outputs": [
        {
          "data": {
            "application/vnd.google.colaboratory.intrinsic+json": {
              "type": "string"
            },
            "text/plain": [
              "'– Hugging Face, Inc. is a French-American company based in New York City that develops computation tools for building applications using machine learning. It is most notable for its transformers library built for natural language processing applications and its platform that allows users to share machine learning models and datasets and showcase their work. The company was founded in 2016 by French entrepreneurs Clément Delangue, Julien Chaumond, and Thomas Wolf in New York City, originally as a company that developed a chatbot app targeted at teenagers. It was named after the U+1F917  HUGGING'"
            ]
          },
          "execution_count": 30,
          "metadata": {},
          "output_type": "execute_result"
        }
      ],
      "source": [
        "summary"
      ]
    },
    {
      "cell_type": "code",
      "execution_count": null,
      "metadata": {
        "colab": {
          "base_uri": "https://localhost:8080/",
          "height": 140
        },
        "id": "tbTUC4NuJ1lH",
        "outputId": "baf96dde-32ab-4f07-e82e-99d9d971064d"
      },
      "outputs": [
        {
          "data": {
            "application/vnd.google.colaboratory.intrinsic+json": {
              "type": "string"
            },
            "text/plain": [
              "'Hugging Face, Inc. is a French-American company based in New York City that develops computation tools for machine learning applications. Founded in 2016, the company initially developed a chatbot app for teenagers. After open-sourcing the model, it shifted to a machine learning platform. In 2021, it raised $40 million in a Series B funding round. In 2022, it launched the BigScience Research Workshop, released BLOOM, acquired Gradio, and announced its Series C funding round. The company also launched the Private Hub.'"
            ]
          },
          "execution_count": 31,
          "metadata": {},
          "output_type": "execute_result"
        }
      ],
      "source": [
        "ref_summary"
      ]
    },
    {
      "cell_type": "code",
      "execution_count": null,
      "metadata": {
        "id": "_8QEtWULKKf1"
      },
      "outputs": [],
      "source": [
        "trainer.save_model()"
      ]
    },
    {
      "cell_type": "code",
      "execution_count": null,
      "metadata": {
        "id": "aBcinLkbHYXG"
      },
      "outputs": [],
      "source": [
        "ref_summary=\"\"\"Hugging Face, Inc. is a French-American company based in New York City that develops computation tools for machine learning applications. Founded in 2016, the company initially developed a chatbot app for teenagers. After open-sourcing the model, it shifted to a machine learning platform. In 2021, it raised $40 million in a Series B funding round. In 2022, it launched the BigScience Research Workshop, released BLOOM, acquired Gradio, and announced its Series C funding round. The company also launched the Private Hub.\"\"\""
      ]
    },
    {
      "cell_type": "code",
      "execution_count": null,
      "metadata": {
        "colab": {
          "base_uri": "https://localhost:8080/"
        },
        "id": "2BaEFkTrI4Yt",
        "outputId": "8f57bce3-8cbb-4d96-f133-b11172e1947d"
      },
      "outputs": [
        {
          "data": {
            "text/plain": [
              "[{'rouge-1': {'r': 0.4918032786885246,\n",
              "   'p': 0.4225352112676056,\n",
              "   'f': 0.4545454495741506},\n",
              "  'rouge-2': {'r': 0.2727272727272727,\n",
              "   'p': 0.23595505617977527,\n",
              "   'f': 0.25301204321889975},\n",
              "  'rouge-l': {'r': 0.45901639344262296,\n",
              "   'p': 0.39436619718309857,\n",
              "   'f': 0.42424241927112033}}]"
            ]
          },
          "execution_count": 29,
          "metadata": {},
          "output_type": "execute_result"
        }
      ],
      "source": [
        "from rouge import Rouge\n",
        "\n",
        "rouge=Rouge()\n",
        "scores=rouge.get_scores(summary,ref_summary)\n",
        "scores"
      ]
    },
    {
      "cell_type": "code",
      "execution_count": null,
      "metadata": {
        "colab": {
          "base_uri": "https://localhost:8080/"
        },
        "id": "363814a9",
        "outputId": "67aad0f4-1b69-485d-9f0a-3b8a0fb68a93"
      },
      "outputs": [
        {
          "name": "stdout",
          "output_type": "stream",
          "text": [
            "\u001b[33mWARNING: Ignoring invalid distribution ~vidia-cusolver-cu12 (/usr/local/lib/python3.11/dist-packages)\u001b[0m\u001b[33m\n",
            "\u001b[0m\u001b[33mWARNING: Ignoring invalid distribution ~vidia-cusolver-cu12 (/usr/local/lib/python3.11/dist-packages)\u001b[0m\u001b[33m\n",
            "\u001b[0mCollecting rouge\n",
            "  Downloading rouge-1.0.1-py3-none-any.whl.metadata (4.1 kB)\n",
            "Requirement already satisfied: six in /usr/local/lib/python3.11/dist-packages (from rouge) (1.17.0)\n",
            "Downloading rouge-1.0.1-py3-none-any.whl (13 kB)\n",
            "\u001b[33mWARNING: Ignoring invalid distribution ~vidia-cusolver-cu12 (/usr/local/lib/python3.11/dist-packages)\u001b[0m\u001b[33m\n",
            "\u001b[0mInstalling collected packages: rouge\n",
            "\u001b[33mWARNING: Ignoring invalid distribution ~vidia-cusolver-cu12 (/usr/local/lib/python3.11/dist-packages)\u001b[0m\u001b[33m\n",
            "\u001b[0mSuccessfully installed rouge-1.0.1\n"
          ]
        }
      ],
      "source": [
        "pip install rouge"
      ]
    }
  ],
  "metadata": {
    "accelerator": "GPU",
    "colab": {
      "gpuType": "T4",
      "provenance": [],
      "include_colab_link": true
    },
    "kernelspec": {
      "display_name": "Python 3",
      "name": "python3"
    },
    "language_info": {
      "name": "python"
    }
  },
  "nbformat": 4,
  "nbformat_minor": 0
}